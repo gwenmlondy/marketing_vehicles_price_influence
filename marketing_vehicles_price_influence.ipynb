{
 "cells": [
  {
   "cell_type": "markdown",
   "metadata": {},
   "source": [
    "# What sells a car?\n",
    "\n",
    "A study of data collected over the last few years that determine which factors influence the price of a vehicle."
   ]
  },
  {
   "cell_type": "markdown",
   "metadata": {},
   "source": [
    " ## Contents <a id='back'></a>\n",
    " * [Introduction](#intro)\n",
    " * [Data expolration](#data_expolration)\n",
    " * [Data transformation](#data_transformation)\n",
    " * [Working with missing values](#working_with_missing_values)\n",
    " * [Categorization of data](#Categorization_of_data)\n",
    " * [Checking the Hypotheses](#checking_the_hypotheses)\n",
    " * [General conclution](#general_conclution)\n"
   ]
  },
  {
   "cell_type": "markdown",
   "metadata": {},
   "source": [
    "## Introduction <a id='data_review'></a>\n",
    "\n",
    "This is an analysis of the hundreds of free advertisements for vehicles that are published. \n",
    "\n",
    "### **The Purpose of this project:** <a id='data_review'></a>\n",
    "\n",
    "This data attempts to find the factors that influence the price of a vehicles. \n",
    "\n",
    "### **The Hypothes being tested:** <a id='data_review'></a>\n",
    "\n",
    "The factors below influence the price of a vehicles: \n",
    "- vehicle's age \n",
    "- mileage \n",
    "- vehicle condition \n",
    "\n",
    "\n",
    "### **Task decomposition:** <a id='data_review'></a>\n",
    "\n",
    "- Data preprocessing\n",
    "    - Identify and correcting missing values\n",
    "    - Convert the data to the required types\n",
    "- Calculating data in table and include more columns in the table\n",
    "- Carrying out exploratory data analysis\n",
    "    - Study the following parameters & Plot histograms for each: \n",
    "        - price \n",
    "        - vehicle's age \n",
    "        - when the ad was placed \n",
    "        - mileage \n",
    "        - number of cylinders \n",
    "        - vehicle condition\n",
    "     - Determine the upper limits of outliers\n",
    "         - remove the outliers and store them in a separate DataFrame\n",
    "     - Study how many days advertisements were displayed and plot a histogram\n",
    "     - Analyze the number of ads and the average price for each type of vehicle and plot on a graph \n",
    "- An overall conclusion"
   ]
  },
  {
   "cell_type": "markdown",
   "metadata": {},
   "source": [
    "## Initialization"
   ]
  },
  {
   "cell_type": "code",
   "execution_count": 38,
   "metadata": {},
   "outputs": [],
   "source": [
    "# Loading all the libraries\n",
    "import pandas as pd\n",
    "import numpy as np\n",
    "import matplotlib.pyplot as plt\n",
    "import seaborn as sns"
   ]
  },
  {
   "cell_type": "markdown",
   "metadata": {},
   "source": [
    "### Load data"
   ]
  },
  {
   "cell_type": "code",
   "execution_count": 39,
   "metadata": {
    "scrolled": true
   },
   "outputs": [],
   "source": [
    "# Load the data file into a DataFrame\n",
    "df = pd.read_csv('/datasets/vehicles_us.csv')"
   ]
  },
  {
   "cell_type": "code",
   "execution_count": 40,
   "metadata": {
    "scrolled": true
   },
   "outputs": [
    {
     "data": {
      "text/html": [
       "<div>\n",
       "<style scoped>\n",
       "    .dataframe tbody tr th:only-of-type {\n",
       "        vertical-align: middle;\n",
       "    }\n",
       "\n",
       "    .dataframe tbody tr th {\n",
       "        vertical-align: top;\n",
       "    }\n",
       "\n",
       "    .dataframe thead th {\n",
       "        text-align: right;\n",
       "    }\n",
       "</style>\n",
       "<table border=\"1\" class=\"dataframe\">\n",
       "  <thead>\n",
       "    <tr style=\"text-align: right;\">\n",
       "      <th></th>\n",
       "      <th>price</th>\n",
       "      <th>model_year</th>\n",
       "      <th>model</th>\n",
       "      <th>condition</th>\n",
       "      <th>cylinders</th>\n",
       "      <th>fuel</th>\n",
       "      <th>odometer</th>\n",
       "      <th>transmission</th>\n",
       "      <th>type</th>\n",
       "      <th>paint_color</th>\n",
       "      <th>is_4wd</th>\n",
       "      <th>date_posted</th>\n",
       "      <th>days_listed</th>\n",
       "    </tr>\n",
       "  </thead>\n",
       "  <tbody>\n",
       "    <tr>\n",
       "      <th>0</th>\n",
       "      <td>9400</td>\n",
       "      <td>2011.0</td>\n",
       "      <td>bmw x5</td>\n",
       "      <td>good</td>\n",
       "      <td>6.0</td>\n",
       "      <td>gas</td>\n",
       "      <td>145000.0</td>\n",
       "      <td>automatic</td>\n",
       "      <td>SUV</td>\n",
       "      <td>NaN</td>\n",
       "      <td>1.0</td>\n",
       "      <td>2018-06-23</td>\n",
       "      <td>19</td>\n",
       "    </tr>\n",
       "    <tr>\n",
       "      <th>1</th>\n",
       "      <td>25500</td>\n",
       "      <td>NaN</td>\n",
       "      <td>ford f-150</td>\n",
       "      <td>good</td>\n",
       "      <td>6.0</td>\n",
       "      <td>gas</td>\n",
       "      <td>88705.0</td>\n",
       "      <td>automatic</td>\n",
       "      <td>pickup</td>\n",
       "      <td>white</td>\n",
       "      <td>1.0</td>\n",
       "      <td>2018-10-19</td>\n",
       "      <td>50</td>\n",
       "    </tr>\n",
       "    <tr>\n",
       "      <th>2</th>\n",
       "      <td>5500</td>\n",
       "      <td>2013.0</td>\n",
       "      <td>hyundai sonata</td>\n",
       "      <td>like new</td>\n",
       "      <td>4.0</td>\n",
       "      <td>gas</td>\n",
       "      <td>110000.0</td>\n",
       "      <td>automatic</td>\n",
       "      <td>sedan</td>\n",
       "      <td>red</td>\n",
       "      <td>NaN</td>\n",
       "      <td>2019-02-07</td>\n",
       "      <td>79</td>\n",
       "    </tr>\n",
       "    <tr>\n",
       "      <th>3</th>\n",
       "      <td>1500</td>\n",
       "      <td>2003.0</td>\n",
       "      <td>ford f-150</td>\n",
       "      <td>fair</td>\n",
       "      <td>8.0</td>\n",
       "      <td>gas</td>\n",
       "      <td>NaN</td>\n",
       "      <td>automatic</td>\n",
       "      <td>pickup</td>\n",
       "      <td>NaN</td>\n",
       "      <td>NaN</td>\n",
       "      <td>2019-03-22</td>\n",
       "      <td>9</td>\n",
       "    </tr>\n",
       "    <tr>\n",
       "      <th>4</th>\n",
       "      <td>14900</td>\n",
       "      <td>2017.0</td>\n",
       "      <td>chrysler 200</td>\n",
       "      <td>excellent</td>\n",
       "      <td>4.0</td>\n",
       "      <td>gas</td>\n",
       "      <td>80903.0</td>\n",
       "      <td>automatic</td>\n",
       "      <td>sedan</td>\n",
       "      <td>black</td>\n",
       "      <td>NaN</td>\n",
       "      <td>2019-04-02</td>\n",
       "      <td>28</td>\n",
       "    </tr>\n",
       "    <tr>\n",
       "      <th>...</th>\n",
       "      <td>...</td>\n",
       "      <td>...</td>\n",
       "      <td>...</td>\n",
       "      <td>...</td>\n",
       "      <td>...</td>\n",
       "      <td>...</td>\n",
       "      <td>...</td>\n",
       "      <td>...</td>\n",
       "      <td>...</td>\n",
       "      <td>...</td>\n",
       "      <td>...</td>\n",
       "      <td>...</td>\n",
       "      <td>...</td>\n",
       "    </tr>\n",
       "    <tr>\n",
       "      <th>51520</th>\n",
       "      <td>9249</td>\n",
       "      <td>2013.0</td>\n",
       "      <td>nissan maxima</td>\n",
       "      <td>like new</td>\n",
       "      <td>6.0</td>\n",
       "      <td>gas</td>\n",
       "      <td>88136.0</td>\n",
       "      <td>automatic</td>\n",
       "      <td>sedan</td>\n",
       "      <td>black</td>\n",
       "      <td>NaN</td>\n",
       "      <td>2018-10-03</td>\n",
       "      <td>37</td>\n",
       "    </tr>\n",
       "    <tr>\n",
       "      <th>51521</th>\n",
       "      <td>2700</td>\n",
       "      <td>2002.0</td>\n",
       "      <td>honda civic</td>\n",
       "      <td>salvage</td>\n",
       "      <td>4.0</td>\n",
       "      <td>gas</td>\n",
       "      <td>181500.0</td>\n",
       "      <td>automatic</td>\n",
       "      <td>sedan</td>\n",
       "      <td>white</td>\n",
       "      <td>NaN</td>\n",
       "      <td>2018-11-14</td>\n",
       "      <td>22</td>\n",
       "    </tr>\n",
       "    <tr>\n",
       "      <th>51522</th>\n",
       "      <td>3950</td>\n",
       "      <td>2009.0</td>\n",
       "      <td>hyundai sonata</td>\n",
       "      <td>excellent</td>\n",
       "      <td>4.0</td>\n",
       "      <td>gas</td>\n",
       "      <td>128000.0</td>\n",
       "      <td>automatic</td>\n",
       "      <td>sedan</td>\n",
       "      <td>blue</td>\n",
       "      <td>NaN</td>\n",
       "      <td>2018-11-15</td>\n",
       "      <td>32</td>\n",
       "    </tr>\n",
       "    <tr>\n",
       "      <th>51523</th>\n",
       "      <td>7455</td>\n",
       "      <td>2013.0</td>\n",
       "      <td>toyota corolla</td>\n",
       "      <td>good</td>\n",
       "      <td>4.0</td>\n",
       "      <td>gas</td>\n",
       "      <td>139573.0</td>\n",
       "      <td>automatic</td>\n",
       "      <td>sedan</td>\n",
       "      <td>black</td>\n",
       "      <td>NaN</td>\n",
       "      <td>2018-07-02</td>\n",
       "      <td>71</td>\n",
       "    </tr>\n",
       "    <tr>\n",
       "      <th>51524</th>\n",
       "      <td>6300</td>\n",
       "      <td>2014.0</td>\n",
       "      <td>nissan altima</td>\n",
       "      <td>good</td>\n",
       "      <td>4.0</td>\n",
       "      <td>gas</td>\n",
       "      <td>NaN</td>\n",
       "      <td>automatic</td>\n",
       "      <td>sedan</td>\n",
       "      <td>NaN</td>\n",
       "      <td>NaN</td>\n",
       "      <td>2018-06-05</td>\n",
       "      <td>10</td>\n",
       "    </tr>\n",
       "  </tbody>\n",
       "</table>\n",
       "<p>51525 rows × 13 columns</p>\n",
       "</div>"
      ],
      "text/plain": [
       "       price  model_year           model  condition  cylinders fuel  odometer  \\\n",
       "0       9400      2011.0          bmw x5       good        6.0  gas  145000.0   \n",
       "1      25500         NaN      ford f-150       good        6.0  gas   88705.0   \n",
       "2       5500      2013.0  hyundai sonata   like new        4.0  gas  110000.0   \n",
       "3       1500      2003.0      ford f-150       fair        8.0  gas       NaN   \n",
       "4      14900      2017.0    chrysler 200  excellent        4.0  gas   80903.0   \n",
       "...      ...         ...             ...        ...        ...  ...       ...   \n",
       "51520   9249      2013.0   nissan maxima   like new        6.0  gas   88136.0   \n",
       "51521   2700      2002.0     honda civic    salvage        4.0  gas  181500.0   \n",
       "51522   3950      2009.0  hyundai sonata  excellent        4.0  gas  128000.0   \n",
       "51523   7455      2013.0  toyota corolla       good        4.0  gas  139573.0   \n",
       "51524   6300      2014.0   nissan altima       good        4.0  gas       NaN   \n",
       "\n",
       "      transmission    type paint_color  is_4wd date_posted  days_listed  \n",
       "0        automatic     SUV         NaN     1.0  2018-06-23           19  \n",
       "1        automatic  pickup       white     1.0  2018-10-19           50  \n",
       "2        automatic   sedan         red     NaN  2019-02-07           79  \n",
       "3        automatic  pickup         NaN     NaN  2019-03-22            9  \n",
       "4        automatic   sedan       black     NaN  2019-04-02           28  \n",
       "...            ...     ...         ...     ...         ...          ...  \n",
       "51520    automatic   sedan       black     NaN  2018-10-03           37  \n",
       "51521    automatic   sedan       white     NaN  2018-11-14           22  \n",
       "51522    automatic   sedan        blue     NaN  2018-11-15           32  \n",
       "51523    automatic   sedan       black     NaN  2018-07-02           71  \n",
       "51524    automatic   sedan         NaN     NaN  2018-06-05           10  \n",
       "\n",
       "[51525 rows x 13 columns]"
      ]
     },
     "metadata": {},
     "output_type": "display_data"
    }
   ],
   "source": [
    "display(df)"
   ]
  },
  {
   "cell_type": "markdown",
   "metadata": {},
   "source": [
    "### Explore initial data"
   ]
  },
  {
   "cell_type": "markdown",
   "metadata": {},
   "source": [
    "The dataset contains the following fields:\n",
    "- `price`\n",
    "- `model_year`\n",
    "- `model`\n",
    "- `condition`\n",
    "- `cylinders`\n",
    "- `fuel` — gas, diesel, etc.\n",
    "- `odometer` — the vehicle's mileage when the ad was published\n",
    "- `transmission`\n",
    "- `paint_color`\n",
    "- `is_4wd` — whether the vehicle has 4-wheel drive (Boolean type)\n",
    "- `date_posted` — the date the ad was published\n",
    "- `days_listed` — from publication to removal"
   ]
  },
  {
   "cell_type": "code",
   "execution_count": 41,
   "metadata": {},
   "outputs": [
    {
     "name": "stdout",
     "output_type": "stream",
     "text": [
      "<class 'pandas.core.frame.DataFrame'>\n",
      "RangeIndex: 51525 entries, 0 to 51524\n",
      "Data columns (total 13 columns):\n",
      " #   Column        Non-Null Count  Dtype  \n",
      "---  ------        --------------  -----  \n",
      " 0   price         51525 non-null  int64  \n",
      " 1   model_year    47906 non-null  float64\n",
      " 2   model         51525 non-null  object \n",
      " 3   condition     51525 non-null  object \n",
      " 4   cylinders     46265 non-null  float64\n",
      " 5   fuel          51525 non-null  object \n",
      " 6   odometer      43633 non-null  float64\n",
      " 7   transmission  51525 non-null  object \n",
      " 8   type          51525 non-null  object \n",
      " 9   paint_color   42258 non-null  object \n",
      " 10  is_4wd        25572 non-null  float64\n",
      " 11  date_posted   51525 non-null  object \n",
      " 12  days_listed   51525 non-null  int64  \n",
      "dtypes: float64(4), int64(2), object(7)\n",
      "memory usage: 5.1+ MB\n"
     ]
    }
   ],
   "source": [
    "# print the general/summary information about the DataFrame\n",
    "df.info()"
   ]
  },
  {
   "cell_type": "code",
   "execution_count": 42,
   "metadata": {},
   "outputs": [
    {
     "data": {
      "text/html": [
       "<div>\n",
       "<style scoped>\n",
       "    .dataframe tbody tr th:only-of-type {\n",
       "        vertical-align: middle;\n",
       "    }\n",
       "\n",
       "    .dataframe tbody tr th {\n",
       "        vertical-align: top;\n",
       "    }\n",
       "\n",
       "    .dataframe thead th {\n",
       "        text-align: right;\n",
       "    }\n",
       "</style>\n",
       "<table border=\"1\" class=\"dataframe\">\n",
       "  <thead>\n",
       "    <tr style=\"text-align: right;\">\n",
       "      <th></th>\n",
       "      <th>price</th>\n",
       "      <th>model_year</th>\n",
       "      <th>model</th>\n",
       "      <th>condition</th>\n",
       "      <th>cylinders</th>\n",
       "      <th>fuel</th>\n",
       "      <th>odometer</th>\n",
       "      <th>transmission</th>\n",
       "      <th>type</th>\n",
       "      <th>paint_color</th>\n",
       "      <th>is_4wd</th>\n",
       "      <th>date_posted</th>\n",
       "      <th>days_listed</th>\n",
       "    </tr>\n",
       "  </thead>\n",
       "  <tbody>\n",
       "    <tr>\n",
       "      <th>23359</th>\n",
       "      <td>6950</td>\n",
       "      <td>2013.0</td>\n",
       "      <td>chevrolet malibu</td>\n",
       "      <td>excellent</td>\n",
       "      <td>4.0</td>\n",
       "      <td>gas</td>\n",
       "      <td>104000.0</td>\n",
       "      <td>automatic</td>\n",
       "      <td>sedan</td>\n",
       "      <td>grey</td>\n",
       "      <td>1.0</td>\n",
       "      <td>2018-12-06</td>\n",
       "      <td>153</td>\n",
       "    </tr>\n",
       "  </tbody>\n",
       "</table>\n",
       "</div>"
      ],
      "text/plain": [
       "       price  model_year             model  condition  cylinders fuel  \\\n",
       "23359   6950      2013.0  chevrolet malibu  excellent        4.0  gas   \n",
       "\n",
       "       odometer transmission   type paint_color  is_4wd date_posted  \\\n",
       "23359  104000.0    automatic  sedan        grey     1.0  2018-12-06   \n",
       "\n",
       "       days_listed  \n",
       "23359          153  "
      ]
     },
     "execution_count": 42,
     "metadata": {},
     "output_type": "execute_result"
    }
   ],
   "source": [
    "# print a sample of data\n",
    "df.sample()"
   ]
  },
  {
   "cell_type": "code",
   "execution_count": 43,
   "metadata": {},
   "outputs": [
    {
     "data": {
      "text/html": [
       "<div>\n",
       "<style scoped>\n",
       "    .dataframe tbody tr th:only-of-type {\n",
       "        vertical-align: middle;\n",
       "    }\n",
       "\n",
       "    .dataframe tbody tr th {\n",
       "        vertical-align: top;\n",
       "    }\n",
       "\n",
       "    .dataframe thead th {\n",
       "        text-align: right;\n",
       "    }\n",
       "</style>\n",
       "<table border=\"1\" class=\"dataframe\">\n",
       "  <thead>\n",
       "    <tr style=\"text-align: right;\">\n",
       "      <th></th>\n",
       "      <th>price</th>\n",
       "      <th>model_year</th>\n",
       "      <th>model</th>\n",
       "      <th>condition</th>\n",
       "      <th>cylinders</th>\n",
       "      <th>fuel</th>\n",
       "      <th>odometer</th>\n",
       "      <th>transmission</th>\n",
       "      <th>type</th>\n",
       "      <th>paint_color</th>\n",
       "      <th>is_4wd</th>\n",
       "      <th>date_posted</th>\n",
       "      <th>days_listed</th>\n",
       "    </tr>\n",
       "  </thead>\n",
       "  <tbody>\n",
       "    <tr>\n",
       "      <th>0</th>\n",
       "      <td>9400</td>\n",
       "      <td>2011.0</td>\n",
       "      <td>bmw x5</td>\n",
       "      <td>good</td>\n",
       "      <td>6.0</td>\n",
       "      <td>gas</td>\n",
       "      <td>145000.0</td>\n",
       "      <td>automatic</td>\n",
       "      <td>SUV</td>\n",
       "      <td>NaN</td>\n",
       "      <td>1.0</td>\n",
       "      <td>2018-06-23</td>\n",
       "      <td>19</td>\n",
       "    </tr>\n",
       "    <tr>\n",
       "      <th>1</th>\n",
       "      <td>25500</td>\n",
       "      <td>NaN</td>\n",
       "      <td>ford f-150</td>\n",
       "      <td>good</td>\n",
       "      <td>6.0</td>\n",
       "      <td>gas</td>\n",
       "      <td>88705.0</td>\n",
       "      <td>automatic</td>\n",
       "      <td>pickup</td>\n",
       "      <td>white</td>\n",
       "      <td>1.0</td>\n",
       "      <td>2018-10-19</td>\n",
       "      <td>50</td>\n",
       "    </tr>\n",
       "    <tr>\n",
       "      <th>2</th>\n",
       "      <td>5500</td>\n",
       "      <td>2013.0</td>\n",
       "      <td>hyundai sonata</td>\n",
       "      <td>like new</td>\n",
       "      <td>4.0</td>\n",
       "      <td>gas</td>\n",
       "      <td>110000.0</td>\n",
       "      <td>automatic</td>\n",
       "      <td>sedan</td>\n",
       "      <td>red</td>\n",
       "      <td>NaN</td>\n",
       "      <td>2019-02-07</td>\n",
       "      <td>79</td>\n",
       "    </tr>\n",
       "    <tr>\n",
       "      <th>3</th>\n",
       "      <td>1500</td>\n",
       "      <td>2003.0</td>\n",
       "      <td>ford f-150</td>\n",
       "      <td>fair</td>\n",
       "      <td>8.0</td>\n",
       "      <td>gas</td>\n",
       "      <td>NaN</td>\n",
       "      <td>automatic</td>\n",
       "      <td>pickup</td>\n",
       "      <td>NaN</td>\n",
       "      <td>NaN</td>\n",
       "      <td>2019-03-22</td>\n",
       "      <td>9</td>\n",
       "    </tr>\n",
       "    <tr>\n",
       "      <th>4</th>\n",
       "      <td>14900</td>\n",
       "      <td>2017.0</td>\n",
       "      <td>chrysler 200</td>\n",
       "      <td>excellent</td>\n",
       "      <td>4.0</td>\n",
       "      <td>gas</td>\n",
       "      <td>80903.0</td>\n",
       "      <td>automatic</td>\n",
       "      <td>sedan</td>\n",
       "      <td>black</td>\n",
       "      <td>NaN</td>\n",
       "      <td>2019-04-02</td>\n",
       "      <td>28</td>\n",
       "    </tr>\n",
       "  </tbody>\n",
       "</table>\n",
       "</div>"
      ],
      "text/plain": [
       "   price  model_year           model  condition  cylinders fuel  odometer  \\\n",
       "0   9400      2011.0          bmw x5       good        6.0  gas  145000.0   \n",
       "1  25500         NaN      ford f-150       good        6.0  gas   88705.0   \n",
       "2   5500      2013.0  hyundai sonata   like new        4.0  gas  110000.0   \n",
       "3   1500      2003.0      ford f-150       fair        8.0  gas       NaN   \n",
       "4  14900      2017.0    chrysler 200  excellent        4.0  gas   80903.0   \n",
       "\n",
       "  transmission    type paint_color  is_4wd date_posted  days_listed  \n",
       "0    automatic     SUV         NaN     1.0  2018-06-23           19  \n",
       "1    automatic  pickup       white     1.0  2018-10-19           50  \n",
       "2    automatic   sedan         red     NaN  2019-02-07           79  \n",
       "3    automatic  pickup         NaN     NaN  2019-03-22            9  \n",
       "4    automatic   sedan       black     NaN  2019-04-02           28  "
      ]
     },
     "execution_count": 43,
     "metadata": {},
     "output_type": "execute_result"
    }
   ],
   "source": [
    "df.head()"
   ]
  },
  {
   "cell_type": "code",
   "execution_count": 44,
   "metadata": {},
   "outputs": [
    {
     "name": "stdout",
     "output_type": "stream",
     "text": [
      "0\n"
     ]
    }
   ],
   "source": [
    "print(df.duplicated().sum()) "
   ]
  },
  {
   "cell_type": "markdown",
   "metadata": {},
   "source": [
    "**Data Quality Assessment**"
   ]
  },
  {
   "cell_type": "markdown",
   "metadata": {},
   "source": [
    "Initial assessment of data \n",
    "\n",
    "- There are multiple fields in the dataset that are missing\n",
    "- Most of the data in the columns appropriately match the column titles\n",
    "- The column `is_4wd` is an either or column and should be Boolean data type\n",
    "- The column `date_posted` is object and because it is a date it should be a Date data type\n",
    "- The column `type` has lowercasse and uppercase\n",
    "- There are not duplications in the dataset"
   ]
  },
  {
   "cell_type": "code",
   "execution_count": 45,
   "metadata": {},
   "outputs": [
    {
     "data": {
      "text/plain": [
       "price               0\n",
       "model_year       3619\n",
       "model               0\n",
       "condition           0\n",
       "cylinders        5260\n",
       "fuel                0\n",
       "odometer         7892\n",
       "transmission        0\n",
       "type                0\n",
       "paint_color      9267\n",
       "is_4wd          25953\n",
       "date_posted         0\n",
       "days_listed         0\n",
       "dtype: int64"
      ]
     },
     "execution_count": 45,
     "metadata": {},
     "output_type": "execute_result"
    }
   ],
   "source": [
    "df.isna().sum()"
   ]
  },
  {
   "cell_type": "markdown",
   "metadata": {},
   "source": [
    "There is data missing in the following columns:\n",
    "\n",
    "- `model_year`\n",
    "- `cylinders`\n",
    "- `odometer`\n",
    "- `paint_color`\n",
    "- `is_4wd`"
   ]
  },
  {
   "cell_type": "markdown",
   "metadata": {},
   "source": [
    "### Conclusions and further steps\n"
   ]
  },
  {
   "cell_type": "markdown",
   "metadata": {},
   "source": [
    "There are multiple fields in the dataset that are missing.\n",
    "The next steps to be taken are:\n",
    "-\tFix missing data\n",
    "-\tEstablish the correct data types "
   ]
  },
  {
   "cell_type": "markdown",
   "metadata": {},
   "source": [
    "## Treat missing values (if any)"
   ]
  },
  {
   "cell_type": "markdown",
   "metadata": {},
   "source": [
    "There is data missing in the following columns:\n",
    "\n",
    "- `model_year`\n",
    "- `cylinders`\n",
    "- `odometer`\n",
    "- `paint_color`\n",
    "- `is_4wd`"
   ]
  },
  {
   "cell_type": "markdown",
   "metadata": {},
   "source": [
    "**Treating missing values in `model_year` column**"
   ]
  },
  {
   "cell_type": "code",
   "execution_count": 46,
   "metadata": {
    "scrolled": true
   },
   "outputs": [
    {
     "name": "stdout",
     "output_type": "stream",
     "text": [
      "2013.0    3549\n",
      "2012.0    3468\n",
      "2014.0    3448\n",
      "2011.0    3375\n",
      "2015.0    3323\n",
      "          ... \n",
      "1948.0       1\n",
      "1961.0       1\n",
      "1936.0       1\n",
      "1949.0       1\n",
      "1955.0       1\n",
      "Name: model_year, Length: 68, dtype: int64\n",
      "\n",
      "[2011.   nan 2013. 2003. 2017. 2014. 2015. 2012. 2008. 2018. 2009. 2010.\n",
      " 2007. 2004. 2005. 2001. 2006. 1966. 1994. 2019. 2000. 2016. 1993. 1999.\n",
      " 1997. 2002. 1981. 1995. 1996. 1975. 1998. 1985. 1977. 1987. 1974. 1990.\n",
      " 1992. 1991. 1972. 1967. 1988. 1969. 1989. 1978. 1965. 1979. 1968. 1986.\n",
      " 1980. 1964. 1963. 1984. 1982. 1973. 1970. 1955. 1971. 1976. 1983. 1954.\n",
      " 1962. 1948. 1960. 1908. 1961. 1936. 1949. 1958. 1929.]\n",
      "\n",
      "Number of Missing values in column 'model_year':  3619\n"
     ]
    }
   ],
   "source": [
    "print(df[\"model_year\"].value_counts())\n",
    "print()\n",
    "print(df[\"model_year\"].unique())\n",
    "print()\n",
    "print(\"Number of Missing values in column 'model_year': \", df[\"model_year\"].isna().sum())"
   ]
  },
  {
   "cell_type": "markdown",
   "metadata": {},
   "source": [
    "The value numbers in the column `model_year` are descriptive of the date of each vehicle was manufactured we have no way of knowing when each vehicle was manufactured and therefore the missing values can be replaced with the median year with similar models.  "
   ]
  },
  {
   "cell_type": "code",
   "execution_count": 47,
   "metadata": {},
   "outputs": [],
   "source": [
    "#Replacing missing values with n model_year column\n",
    "df_model_agg = df.groupby(['model'])['model_year'].transform('median')\n",
    "df['model_year'] = df['model_year'].fillna(df_model_agg)"
   ]
  },
  {
   "cell_type": "code",
   "execution_count": 48,
   "metadata": {},
   "outputs": [
    {
     "name": "stdout",
     "output_type": "stream",
     "text": [
      "Number of Missing values in column 'model_year':  0\n"
     ]
    }
   ],
   "source": [
    "#Testing if missing values were replaced\n",
    "print(\"Number of Missing values in column 'model_year': \", df[\"model_year\"].isna().sum())"
   ]
  },
  {
   "cell_type": "markdown",
   "metadata": {},
   "source": [
    "**Treating missing values in `cylinders` column**"
   ]
  },
  {
   "cell_type": "code",
   "execution_count": 49,
   "metadata": {},
   "outputs": [
    {
     "name": "stdout",
     "output_type": "stream",
     "text": [
      "8.0     15844\n",
      "6.0     15700\n",
      "4.0     13864\n",
      "10.0      549\n",
      "5.0       272\n",
      "3.0        34\n",
      "12.0        2\n",
      "Name: cylinders, dtype: int64\n",
      "\n",
      "[ 6.  4.  8. nan  5. 10.  3. 12.]\n"
     ]
    }
   ],
   "source": [
    "print(df[\"cylinders\"].value_counts())\n",
    "print()\n",
    "print(df[\"cylinders\"].unique())"
   ]
  },
  {
   "cell_type": "markdown",
   "metadata": {},
   "source": [
    "The value numbers in the column `cylinders` are descriptive of the engine of each vehicle, we have no way of knowing which engine type each vehicle has and therefore the missing values can be replaced with the with the median with similar models.  "
   ]
  },
  {
   "cell_type": "code",
   "execution_count": 55,
   "metadata": {},
   "outputs": [],
   "source": [
    "#Replacing missing values with in cylinders column\n",
    "\n",
    "df_cy_agg = df.groupby(['model'])['cylinders'].transform('median')\n",
    "df['cylinders'] = df['cylinders'].fillna(df_cy_agg)\n"
   ]
  },
  {
   "cell_type": "code",
   "execution_count": 56,
   "metadata": {},
   "outputs": [
    {
     "name": "stdout",
     "output_type": "stream",
     "text": [
      "Number of Missing values in column 'cylinders':  0\n"
     ]
    }
   ],
   "source": [
    "#Testing if missing values were replaced\n",
    "print(\"Number of Missing values in column 'cylinders': \", df[\"cylinders\"].isna().sum())"
   ]
  },
  {
   "cell_type": "markdown",
   "metadata": {},
   "source": [
    "**Treating missing values in `odometer` column**"
   ]
  },
  {
   "cell_type": "code",
   "execution_count": 57,
   "metadata": {},
   "outputs": [
    {
     "name": "stdout",
     "output_type": "stream",
     "text": [
      "Number of Missing values in column 'model_year':  7892\n"
     ]
    }
   ],
   "source": [
    "#Testing if missing values were replaced\n",
    "print(\"Number of Missing values in column 'model_year': \", df[\"odometer\"].isna().sum())"
   ]
  },
  {
   "cell_type": "code",
   "execution_count": 58,
   "metadata": {
    "scrolled": true
   },
   "outputs": [
    {
     "name": "stdout",
     "output_type": "stream",
     "text": [
      "0.0         185\n",
      "140000.0    183\n",
      "120000.0    179\n",
      "130000.0    178\n",
      "160000.0    167\n",
      "           ... \n",
      "280499.0      1\n",
      "49814.0       1\n",
      "194920.0      1\n",
      "140800.0      1\n",
      "269527.0      1\n",
      "Name: odometer, Length: 17762, dtype: int64\n",
      "\n",
      "[145000.  88705. 110000. ... 121778. 181500. 139573.]\n",
      "\n",
      "count     43633.000000\n",
      "mean     115553.461738\n",
      "std       65094.611341\n",
      "min           0.000000\n",
      "25%       70000.000000\n",
      "50%      113000.000000\n",
      "75%      155000.000000\n",
      "max      990000.000000\n",
      "Name: odometer, dtype: float64\n"
     ]
    }
   ],
   "source": [
    "print(df[\"odometer\"].value_counts())\n",
    "print()\n",
    "print(df[\"odometer\"].unique())\n",
    "print()\n",
    "print(df[\"odometer\"].describe())"
   ]
  },
  {
   "cell_type": "markdown",
   "metadata": {},
   "source": [
    "The `odometer` column contains numbers which their values are important to the research being conducted. To state the missing values as unknown in would lower the statistical value of this column.\n",
    "\n",
    "- The current minimum value for the column `odometer`: 0\n",
    "- The current maximum value for the column `odometer`: 990000.000000\n",
    "\n",
    "These two values are the range of any odometer which means that these values are the maximum and minimum possible. This increases the likelihood of the presence of outliers making the use of the median instead of the mean to replace the missing values a better option as  the mean is more susceptible to being affected by outliers.\n"
   ]
  },
  {
   "cell_type": "code",
   "execution_count": 61,
   "metadata": {},
   "outputs": [],
   "source": [
    "#Replacing missing values with in odometer column\n",
    "odometer_median = df.groupby('model')[['odometer']].median().reset_index()\n",
    "odometer_median.columns = ['model','odometer_median']\n",
    "odometer_median\n",
    "\n",
    "df = df.merge(odometer_median,on='model')\n",
    "\n",
    "df['odometer'] = df['model'].fillna(df['odometer_median'])"
   ]
  },
  {
   "cell_type": "code",
   "execution_count": 62,
   "metadata": {},
   "outputs": [
    {
     "name": "stdout",
     "output_type": "stream",
     "text": [
      "Number of Missing values in column 'paint_color':  0\n"
     ]
    }
   ],
   "source": [
    "#Testing if missing values were replaced\n",
    "print(\"Number of Missing values in column 'paint_color': \", df[\"odometer\"].isna().sum())"
   ]
  },
  {
   "cell_type": "markdown",
   "metadata": {},
   "source": [
    "**Treating missing values in `paint_color` column**"
   ]
  },
  {
   "cell_type": "code",
   "execution_count": 63,
   "metadata": {},
   "outputs": [
    {
     "name": "stdout",
     "output_type": "stream",
     "text": [
      "white     10029\n",
      "black      7692\n",
      "silver     6244\n",
      "grey       5037\n",
      "blue       4475\n",
      "red        4421\n",
      "green      1396\n",
      "brown      1223\n",
      "custom     1153\n",
      "yellow      255\n",
      "orange      231\n",
      "purple      102\n",
      "Name: paint_color, dtype: int64\n",
      "\n",
      "[nan 'black' 'blue' 'white' 'silver' 'grey' 'green' 'brown' 'red' 'custom'\n",
      " 'purple' 'yellow' 'orange']\n"
     ]
    }
   ],
   "source": [
    "print(df[\"paint_color\"].value_counts())\n",
    "print()\n",
    "print(df[\"paint_color\"].unique())"
   ]
  },
  {
   "cell_type": "markdown",
   "metadata": {},
   "source": [
    "The value numbers in the column `paint_color` are descriptive of the paint of each vehicle we have no way of knowing the color of each vehicle and therefore the missing values can be replaced with the term ‘unknown’."
   ]
  },
  {
   "cell_type": "code",
   "execution_count": 64,
   "metadata": {},
   "outputs": [],
   "source": [
    "#Replacing missing values with unknown in paint_color column\n",
    "df['paint_color'] = df['paint_color'].fillna('unknown')"
   ]
  },
  {
   "cell_type": "code",
   "execution_count": 65,
   "metadata": {},
   "outputs": [
    {
     "name": "stdout",
     "output_type": "stream",
     "text": [
      "Number of Missing values in column 'paint_color':  0\n"
     ]
    }
   ],
   "source": [
    "#Testing if missing values were replaced\n",
    "print(\"Number of Missing values in column 'paint_color': \", df[\"paint_color\"].isna().sum())"
   ]
  },
  {
   "cell_type": "code",
   "execution_count": 66,
   "metadata": {},
   "outputs": [
    {
     "name": "stdout",
     "output_type": "stream",
     "text": [
      "Number of Missing values in colume 'paint_color':  0\n"
     ]
    }
   ],
   "source": [
    "#Testing if missing values were replaced\n",
    "print(\"Number of Missing values in colume 'paint_color': \", df[\"paint_color\"].isna().sum())"
   ]
  },
  {
   "cell_type": "markdown",
   "metadata": {},
   "source": [
    "**Treating missing values in `is_4wd` column**"
   ]
  },
  {
   "cell_type": "code",
   "execution_count": 67,
   "metadata": {},
   "outputs": [
    {
     "name": "stdout",
     "output_type": "stream",
     "text": [
      "1.0    25572\n",
      "Name: is_4wd, dtype: int64\n",
      "\n",
      "[ 1. nan]\n"
     ]
    }
   ],
   "source": [
    "print(df[\"is_4wd\"].value_counts())\n",
    "print()\n",
    "print(df[\"is_4wd\"].unique())"
   ]
  },
  {
   "cell_type": "markdown",
   "metadata": {},
   "source": [
    "The column `is_4wd` is an either-or column and should be Boolean data type. There is currently only one value in column 1.0 let’s assume that this means that it is true. Therefore, the NaN value should be 0 which is the false value. \n",
    "\n",
    "The next step would to make the NaN values 0\n"
   ]
  },
  {
   "cell_type": "code",
   "execution_count": 68,
   "metadata": {},
   "outputs": [],
   "source": [
    "#Replaing all missing values in column is_4wd with 0 and makinng it a Boolean datat type\n",
    "df['is_4wd'] = df['is_4wd'].fillna(0)\n",
    "\n",
    "df['is_4wd'] = df['is_4wd'].astype('bool')"
   ]
  },
  {
   "cell_type": "code",
   "execution_count": 69,
   "metadata": {},
   "outputs": [
    {
     "name": "stdout",
     "output_type": "stream",
     "text": [
      "Number of Missing values in colume 'is_4wd':  0\n"
     ]
    }
   ],
   "source": [
    "#Testing if missing values were replaced\n",
    "print(\"Number of Missing values in colume 'is_4wd': \", df[\"is_4wd\"].isna().sum())"
   ]
  },
  {
   "cell_type": "markdown",
   "metadata": {},
   "source": [
    "**Treating missing values in `type` column**"
   ]
  },
  {
   "cell_type": "code",
   "execution_count": 70,
   "metadata": {},
   "outputs": [
    {
     "data": {
      "text/plain": [
       "array(['SUV', 'wagon', 'sedan', 'truck', 'van', 'hatchback', 'pickup',\n",
       "       'offroad', 'mini-van', 'other', 'coupe', 'convertible', 'bus'],\n",
       "      dtype=object)"
      ]
     },
     "execution_count": 70,
     "metadata": {},
     "output_type": "execute_result"
    }
   ],
   "source": [
    "#checking the data that is in the type column\n",
    "df['type'].unique()"
   ]
  },
  {
   "cell_type": "code",
   "execution_count": 71,
   "metadata": {},
   "outputs": [],
   "source": [
    "#correcting the data that is in the type column\n",
    "df['type'] = df['type'].str.lower() "
   ]
  },
  {
   "cell_type": "code",
   "execution_count": 72,
   "metadata": {},
   "outputs": [
    {
     "data": {
      "text/plain": [
       "array(['suv', 'wagon', 'sedan', 'truck', 'van', 'hatchback', 'pickup',\n",
       "       'offroad', 'mini-van', 'other', 'coupe', 'convertible', 'bus'],\n",
       "      dtype=object)"
      ]
     },
     "execution_count": 72,
     "metadata": {},
     "output_type": "execute_result"
    }
   ],
   "source": [
    "#checking the data that is in the type column\n",
    "df['type'].unique()"
   ]
  },
  {
   "cell_type": "code",
   "execution_count": 73,
   "metadata": {},
   "outputs": [
    {
     "name": "stdout",
     "output_type": "stream",
     "text": [
      "<class 'pandas.core.frame.DataFrame'>\n",
      "Int64Index: 51525 entries, 0 to 51524\n",
      "Data columns (total 14 columns):\n",
      " #   Column           Non-Null Count  Dtype  \n",
      "---  ------           --------------  -----  \n",
      " 0   price            51525 non-null  int64  \n",
      " 1   model_year       51525 non-null  float64\n",
      " 2   model            51525 non-null  object \n",
      " 3   condition        51525 non-null  object \n",
      " 4   cylinders        51525 non-null  float64\n",
      " 5   fuel             51525 non-null  object \n",
      " 6   odometer         51525 non-null  object \n",
      " 7   transmission     51525 non-null  object \n",
      " 8   type             51525 non-null  object \n",
      " 9   paint_color      51525 non-null  object \n",
      " 10  is_4wd           51525 non-null  bool   \n",
      " 11  date_posted      51525 non-null  object \n",
      " 12  days_listed      51525 non-null  int64  \n",
      " 13  odometer_median  51484 non-null  float64\n",
      "dtypes: bool(1), float64(3), int64(2), object(8)\n",
      "memory usage: 5.6+ MB\n"
     ]
    }
   ],
   "source": [
    "# print the general/summary information about the DataFrame\n",
    "df.info()"
   ]
  },
  {
   "cell_type": "markdown",
   "metadata": {},
   "source": [
    "## Fix data types"
   ]
  },
  {
   "cell_type": "code",
   "execution_count": 74,
   "metadata": {},
   "outputs": [],
   "source": [
    "#Correcting the date_posted datat type\n",
    "df['date_posted'] = pd.to_datetime(df['date_posted'], format ='%Y-%m-%d')"
   ]
  },
  {
   "cell_type": "code",
   "execution_count": 75,
   "metadata": {},
   "outputs": [
    {
     "name": "stdout",
     "output_type": "stream",
     "text": [
      "<class 'pandas.core.frame.DataFrame'>\n",
      "Int64Index: 51525 entries, 0 to 51524\n",
      "Data columns (total 14 columns):\n",
      " #   Column           Non-Null Count  Dtype         \n",
      "---  ------           --------------  -----         \n",
      " 0   price            51525 non-null  int64         \n",
      " 1   model_year       51525 non-null  float64       \n",
      " 2   model            51525 non-null  object        \n",
      " 3   condition        51525 non-null  object        \n",
      " 4   cylinders        51525 non-null  float64       \n",
      " 5   fuel             51525 non-null  object        \n",
      " 6   odometer         51525 non-null  object        \n",
      " 7   transmission     51525 non-null  object        \n",
      " 8   type             51525 non-null  object        \n",
      " 9   paint_color      51525 non-null  object        \n",
      " 10  is_4wd           51525 non-null  bool          \n",
      " 11  date_posted      51525 non-null  datetime64[ns]\n",
      " 12  days_listed      51525 non-null  int64         \n",
      " 13  odometer_median  51484 non-null  float64       \n",
      "dtypes: bool(1), datetime64[ns](1), float64(3), int64(2), object(7)\n",
      "memory usage: 5.6+ MB\n"
     ]
    }
   ],
   "source": [
    "#Checking if the data types are corrected\n",
    "df.info()"
   ]
  },
  {
   "cell_type": "markdown",
   "metadata": {},
   "source": [
    "## Enrich data"
   ]
  },
  {
   "cell_type": "code",
   "execution_count": 76,
   "metadata": {},
   "outputs": [],
   "source": [
    "# Add datetime values for when the ad was placed\n",
    "df['year_posted'] = df['date_posted'].dt.year\n",
    "df['month_posted'] = df['date_posted'].dt.month\n",
    "df['day_posted'] = df['date_posted'].dt.weekday"
   ]
  },
  {
   "cell_type": "code",
   "execution_count": 77,
   "metadata": {},
   "outputs": [],
   "source": [
    "# Add the vehicle's age when the ad was placed\n",
    "df['vehicle_age'] = df['year_posted'] - df['model_year']"
   ]
  },
  {
   "cell_type": "code",
   "execution_count": 78,
   "metadata": {},
   "outputs": [],
   "source": [
    "# Add the vehicle's average mileage per year\n",
    "df[\"mileage_per_year\"]  = df[\"year_posted\"] - pd.to_datetime(df[\"model_year\"], format=\"%Y\").astype(int) + 1"
   ]
  },
  {
   "cell_type": "code",
   "execution_count": 79,
   "metadata": {},
   "outputs": [
    {
     "name": "stdout",
     "output_type": "stream",
     "text": [
      "excellent    24773\n",
      "good         20145\n",
      "like new      4742\n",
      "fair          1607\n",
      "new            143\n",
      "salvage        115\n",
      "Name: condition, dtype: int64\n"
     ]
    }
   ],
   "source": [
    "# It might help to replace the condition values with something that can be manipulated more easily\n",
    "print(df['condition'].value_counts())"
   ]
  },
  {
   "cell_type": "markdown",
   "metadata": {},
   "source": [
    "The condition column has been categorized as:\n",
    "- excellent\n",
    "- good\n",
    "- like new\n",
    "- fair\n",
    "- new\n",
    "- salvage\n",
    "\n",
    "For inorder to easily manipulate the data it can be changed to numeric values:\n",
    "- new = 5\n",
    "- like new = 4\n",
    "- excellent = 3\n",
    "- good = 2\n",
    "- fair = 1\n",
    "- salvage = 0\n"
   ]
  },
  {
   "cell_type": "code",
   "execution_count": 80,
   "metadata": {},
   "outputs": [],
   "source": [
    "    dict_cond = {'new': 5,\n",
    "                'like new': 4,\n",
    "                'excellent': 3,\n",
    "                'good': 2,\n",
    "                'fair': 1,\n",
    "                'salvage': 0}\n",
    "\n",
    "    df['condition'] = df['condition'].map(dict_cond)"
   ]
  },
  {
   "cell_type": "code",
   "execution_count": 81,
   "metadata": {},
   "outputs": [
    {
     "name": "stdout",
     "output_type": "stream",
     "text": [
      "3    24773\n",
      "2    20145\n",
      "4     4742\n",
      "1     1607\n",
      "5      143\n",
      "0      115\n",
      "Name: condition, dtype: int64\n"
     ]
    }
   ],
   "source": [
    "print(df['condition'].value_counts())"
   ]
  },
  {
   "cell_type": "code",
   "execution_count": 82,
   "metadata": {
    "scrolled": false
   },
   "outputs": [
    {
     "data": {
      "text/html": [
       "<div>\n",
       "<style scoped>\n",
       "    .dataframe tbody tr th:only-of-type {\n",
       "        vertical-align: middle;\n",
       "    }\n",
       "\n",
       "    .dataframe tbody tr th {\n",
       "        vertical-align: top;\n",
       "    }\n",
       "\n",
       "    .dataframe thead th {\n",
       "        text-align: right;\n",
       "    }\n",
       "</style>\n",
       "<table border=\"1\" class=\"dataframe\">\n",
       "  <thead>\n",
       "    <tr style=\"text-align: right;\">\n",
       "      <th></th>\n",
       "      <th>price</th>\n",
       "      <th>model_year</th>\n",
       "      <th>model</th>\n",
       "      <th>condition</th>\n",
       "      <th>cylinders</th>\n",
       "      <th>fuel</th>\n",
       "      <th>odometer</th>\n",
       "      <th>transmission</th>\n",
       "      <th>type</th>\n",
       "      <th>paint_color</th>\n",
       "      <th>is_4wd</th>\n",
       "      <th>date_posted</th>\n",
       "      <th>days_listed</th>\n",
       "      <th>odometer_median</th>\n",
       "      <th>year_posted</th>\n",
       "      <th>month_posted</th>\n",
       "      <th>day_posted</th>\n",
       "      <th>vehicle_age</th>\n",
       "      <th>mileage_per_year</th>\n",
       "    </tr>\n",
       "  </thead>\n",
       "  <tbody>\n",
       "    <tr>\n",
       "      <th>0</th>\n",
       "      <td>9400</td>\n",
       "      <td>2011.0</td>\n",
       "      <td>bmw x5</td>\n",
       "      <td>2</td>\n",
       "      <td>6.0</td>\n",
       "      <td>gas</td>\n",
       "      <td>bmw x5</td>\n",
       "      <td>automatic</td>\n",
       "      <td>suv</td>\n",
       "      <td>unknown</td>\n",
       "      <td>True</td>\n",
       "      <td>2018-06-23</td>\n",
       "      <td>19</td>\n",
       "      <td>108500.0</td>\n",
       "      <td>2018</td>\n",
       "      <td>6</td>\n",
       "      <td>5</td>\n",
       "      <td>7.0</td>\n",
       "      <td>-1293839999999997981</td>\n",
       "    </tr>\n",
       "    <tr>\n",
       "      <th>1</th>\n",
       "      <td>3200</td>\n",
       "      <td>2004.0</td>\n",
       "      <td>bmw x5</td>\n",
       "      <td>3</td>\n",
       "      <td>6.0</td>\n",
       "      <td>gas</td>\n",
       "      <td>bmw x5</td>\n",
       "      <td>automatic</td>\n",
       "      <td>suv</td>\n",
       "      <td>black</td>\n",
       "      <td>True</td>\n",
       "      <td>2019-04-09</td>\n",
       "      <td>10</td>\n",
       "      <td>108500.0</td>\n",
       "      <td>2019</td>\n",
       "      <td>4</td>\n",
       "      <td>1</td>\n",
       "      <td>15.0</td>\n",
       "      <td>-1072915199999997980</td>\n",
       "    </tr>\n",
       "    <tr>\n",
       "      <th>2</th>\n",
       "      <td>8499</td>\n",
       "      <td>2009.0</td>\n",
       "      <td>bmw x5</td>\n",
       "      <td>2</td>\n",
       "      <td>6.0</td>\n",
       "      <td>gas</td>\n",
       "      <td>bmw x5</td>\n",
       "      <td>automatic</td>\n",
       "      <td>suv</td>\n",
       "      <td>blue</td>\n",
       "      <td>True</td>\n",
       "      <td>2019-03-04</td>\n",
       "      <td>52</td>\n",
       "      <td>108500.0</td>\n",
       "      <td>2019</td>\n",
       "      <td>3</td>\n",
       "      <td>0</td>\n",
       "      <td>10.0</td>\n",
       "      <td>-1230767999999997980</td>\n",
       "    </tr>\n",
       "    <tr>\n",
       "      <th>3</th>\n",
       "      <td>22914</td>\n",
       "      <td>2015.0</td>\n",
       "      <td>bmw x5</td>\n",
       "      <td>3</td>\n",
       "      <td>6.0</td>\n",
       "      <td>gas</td>\n",
       "      <td>bmw x5</td>\n",
       "      <td>automatic</td>\n",
       "      <td>suv</td>\n",
       "      <td>white</td>\n",
       "      <td>True</td>\n",
       "      <td>2018-08-11</td>\n",
       "      <td>19</td>\n",
       "      <td>108500.0</td>\n",
       "      <td>2018</td>\n",
       "      <td>8</td>\n",
       "      <td>5</td>\n",
       "      <td>3.0</td>\n",
       "      <td>-1420070399999997981</td>\n",
       "    </tr>\n",
       "    <tr>\n",
       "      <th>4</th>\n",
       "      <td>22914</td>\n",
       "      <td>2015.0</td>\n",
       "      <td>bmw x5</td>\n",
       "      <td>3</td>\n",
       "      <td>6.0</td>\n",
       "      <td>gas</td>\n",
       "      <td>bmw x5</td>\n",
       "      <td>automatic</td>\n",
       "      <td>suv</td>\n",
       "      <td>white</td>\n",
       "      <td>True</td>\n",
       "      <td>2018-07-07</td>\n",
       "      <td>9</td>\n",
       "      <td>108500.0</td>\n",
       "      <td>2018</td>\n",
       "      <td>7</td>\n",
       "      <td>5</td>\n",
       "      <td>3.0</td>\n",
       "      <td>-1420070399999997981</td>\n",
       "    </tr>\n",
       "  </tbody>\n",
       "</table>\n",
       "</div>"
      ],
      "text/plain": [
       "   price  model_year   model  condition  cylinders fuel odometer transmission  \\\n",
       "0   9400      2011.0  bmw x5          2        6.0  gas   bmw x5    automatic   \n",
       "1   3200      2004.0  bmw x5          3        6.0  gas   bmw x5    automatic   \n",
       "2   8499      2009.0  bmw x5          2        6.0  gas   bmw x5    automatic   \n",
       "3  22914      2015.0  bmw x5          3        6.0  gas   bmw x5    automatic   \n",
       "4  22914      2015.0  bmw x5          3        6.0  gas   bmw x5    automatic   \n",
       "\n",
       "  type paint_color  is_4wd date_posted  days_listed  odometer_median  \\\n",
       "0  suv     unknown    True  2018-06-23           19         108500.0   \n",
       "1  suv       black    True  2019-04-09           10         108500.0   \n",
       "2  suv        blue    True  2019-03-04           52         108500.0   \n",
       "3  suv       white    True  2018-08-11           19         108500.0   \n",
       "4  suv       white    True  2018-07-07            9         108500.0   \n",
       "\n",
       "   year_posted  month_posted  day_posted  vehicle_age     mileage_per_year  \n",
       "0         2018             6           5          7.0 -1293839999999997981  \n",
       "1         2019             4           1         15.0 -1072915199999997980  \n",
       "2         2019             3           0         10.0 -1230767999999997980  \n",
       "3         2018             8           5          3.0 -1420070399999997981  \n",
       "4         2018             7           5          3.0 -1420070399999997981  "
      ]
     },
     "execution_count": 82,
     "metadata": {},
     "output_type": "execute_result"
    }
   ],
   "source": [
    "df.head()"
   ]
  },
  {
   "cell_type": "markdown",
   "metadata": {},
   "source": [
    "## Check clean data"
   ]
  },
  {
   "cell_type": "code",
   "execution_count": 83,
   "metadata": {},
   "outputs": [
    {
     "name": "stdout",
     "output_type": "stream",
     "text": [
      "<class 'pandas.core.frame.DataFrame'>\n",
      "Int64Index: 51525 entries, 0 to 51524\n",
      "Data columns (total 19 columns):\n",
      " #   Column            Non-Null Count  Dtype         \n",
      "---  ------            --------------  -----         \n",
      " 0   price             51525 non-null  int64         \n",
      " 1   model_year        51525 non-null  float64       \n",
      " 2   model             51525 non-null  object        \n",
      " 3   condition         51525 non-null  int64         \n",
      " 4   cylinders         51525 non-null  float64       \n",
      " 5   fuel              51525 non-null  object        \n",
      " 6   odometer          51525 non-null  object        \n",
      " 7   transmission      51525 non-null  object        \n",
      " 8   type              51525 non-null  object        \n",
      " 9   paint_color       51525 non-null  object        \n",
      " 10  is_4wd            51525 non-null  bool          \n",
      " 11  date_posted       51525 non-null  datetime64[ns]\n",
      " 12  days_listed       51525 non-null  int64         \n",
      " 13  odometer_median   51484 non-null  float64       \n",
      " 14  year_posted       51525 non-null  int64         \n",
      " 15  month_posted      51525 non-null  int64         \n",
      " 16  day_posted        51525 non-null  int64         \n",
      " 17  vehicle_age       51525 non-null  float64       \n",
      " 18  mileage_per_year  51525 non-null  int64         \n",
      "dtypes: bool(1), datetime64[ns](1), float64(4), int64(7), object(6)\n",
      "memory usage: 7.5+ MB\n"
     ]
    }
   ],
   "source": [
    "# print the general/summary information about the DataFrame\n",
    "df.info()"
   ]
  },
  {
   "cell_type": "code",
   "execution_count": 84,
   "metadata": {},
   "outputs": [
    {
     "data": {
      "text/html": [
       "<div>\n",
       "<style scoped>\n",
       "    .dataframe tbody tr th:only-of-type {\n",
       "        vertical-align: middle;\n",
       "    }\n",
       "\n",
       "    .dataframe tbody tr th {\n",
       "        vertical-align: top;\n",
       "    }\n",
       "\n",
       "    .dataframe thead th {\n",
       "        text-align: right;\n",
       "    }\n",
       "</style>\n",
       "<table border=\"1\" class=\"dataframe\">\n",
       "  <thead>\n",
       "    <tr style=\"text-align: right;\">\n",
       "      <th></th>\n",
       "      <th>price</th>\n",
       "      <th>model_year</th>\n",
       "      <th>model</th>\n",
       "      <th>condition</th>\n",
       "      <th>cylinders</th>\n",
       "      <th>fuel</th>\n",
       "      <th>odometer</th>\n",
       "      <th>transmission</th>\n",
       "      <th>type</th>\n",
       "      <th>paint_color</th>\n",
       "      <th>is_4wd</th>\n",
       "      <th>date_posted</th>\n",
       "      <th>days_listed</th>\n",
       "      <th>odometer_median</th>\n",
       "      <th>year_posted</th>\n",
       "      <th>month_posted</th>\n",
       "      <th>day_posted</th>\n",
       "      <th>vehicle_age</th>\n",
       "      <th>mileage_per_year</th>\n",
       "    </tr>\n",
       "  </thead>\n",
       "  <tbody>\n",
       "    <tr>\n",
       "      <th>17301</th>\n",
       "      <td>45000</td>\n",
       "      <td>2008.0</td>\n",
       "      <td>chevrolet corvette</td>\n",
       "      <td>2</td>\n",
       "      <td>8.0</td>\n",
       "      <td>gas</td>\n",
       "      <td>chevrolet corvette</td>\n",
       "      <td>manual</td>\n",
       "      <td>coupe</td>\n",
       "      <td>unknown</td>\n",
       "      <td>False</td>\n",
       "      <td>2018-07-07</td>\n",
       "      <td>64</td>\n",
       "      <td>60000.0</td>\n",
       "      <td>2018</td>\n",
       "      <td>7</td>\n",
       "      <td>5</td>\n",
       "      <td>10.0</td>\n",
       "      <td>-1199145599999997981</td>\n",
       "    </tr>\n",
       "  </tbody>\n",
       "</table>\n",
       "</div>"
      ],
      "text/plain": [
       "       price  model_year               model  condition  cylinders fuel  \\\n",
       "17301  45000      2008.0  chevrolet corvette          2        8.0  gas   \n",
       "\n",
       "                 odometer transmission   type paint_color  is_4wd date_posted  \\\n",
       "17301  chevrolet corvette       manual  coupe     unknown   False  2018-07-07   \n",
       "\n",
       "       days_listed  odometer_median  year_posted  month_posted  day_posted  \\\n",
       "17301           64          60000.0         2018             7           5   \n",
       "\n",
       "       vehicle_age     mileage_per_year  \n",
       "17301         10.0 -1199145599999997981  "
      ]
     },
     "execution_count": 84,
     "metadata": {},
     "output_type": "execute_result"
    }
   ],
   "source": [
    "# print a sample of data\n",
    "df.sample()"
   ]
  },
  {
   "cell_type": "markdown",
   "metadata": {},
   "source": [
    "## Study core parameters\n",
    "\n",
    "The parameters are\n",
    "- Price\n",
    "- The vehicle's age when the ad was placed\n",
    "- Mileage\n",
    "- Number of cylinders\n",
    "- Condition"
   ]
  },
  {
   "cell_type": "code",
   "execution_count": 85,
   "metadata": {},
   "outputs": [
    {
     "data": {
      "image/png": "[encoded data removed]",
      "text/plain": [
       "<Figure size 432x288 with 1 Axes>"
      ]
     },
     "metadata": {
      "needs_background": "light"
     },
     "output_type": "display_data"
    },
    {
     "data": {
      "image/png": "[encoded data removed]",
      "text/plain": [
       "<Figure size 432x288 with 1 Axes>"
      ]
     },
     "metadata": {
      "needs_background": "light"
     },
     "output_type": "display_data"
    },
    {
     "data": {
      "image/png": "[encoded data removed]",
      "text/plain": [
       "<Figure size 432x288 with 1 Axes>"
      ]
     },
     "metadata": {
      "needs_background": "light"
     },
     "output_type": "display_data"
    },
    {
     "data": {
      "image/png": "[encoded data removed]",
      "text/plain": [
       "<Figure size 432x288 with 1 Axes>"
      ]
     },
     "metadata": {
      "needs_background": "light"
     },
     "output_type": "display_data"
    }
   ],
   "source": [
    "variables = ['vehicle_age', 'mileage_per_year', 'cylinders', 'condition']\n",
    "for variable in variables:\n",
    "    df.plot(x=variable, y='price', kind='scatter', title=f'Scatter Plot of {variable} vs. Price')"
   ]
  },
  {
   "cell_type": "code",
   "execution_count": 86,
   "metadata": {},
   "outputs": [
    {
     "data": {
      "image/png": "[encoded data removed]",
      "text/plain": [
       "<Figure size 432x288 with 1 Axes>"
      ]
     },
     "metadata": {
      "needs_background": "light"
     },
     "output_type": "display_data"
    },
    {
     "data": {
      "image/png": "[encoded data removed]",
      "text/plain": [
       "<Figure size 432x288 with 1 Axes>"
      ]
     },
     "metadata": {
      "needs_background": "light"
     },
     "output_type": "display_data"
    },
    {
     "data": {
      "image/png": "[encoded data removed]",
      "text/plain": [
       "<Figure size 432x288 with 1 Axes>"
      ]
     },
     "metadata": {
      "needs_background": "light"
     },
     "output_type": "display_data"
    },
    {
     "data": {
      "image/png": "[encoded data removed]",
      "text/plain": [
       "<Figure size 432x288 with 1 Axes>"
      ]
     },
     "metadata": {
      "needs_background": "light"
     },
     "output_type": "display_data"
    }
   ],
   "source": [
    "columns = ['vehicle_age', 'mileage_per_year', 'cylinders', 'condition']\n",
    "\n",
    "for col in columns:\n",
    "    plt.figure() \n",
    "    plt.boxplot(df[col])\n",
    "    plt.title(f'Boxplot for {col}') "
   ]
  },
  {
   "cell_type": "markdown",
   "metadata": {},
   "source": [
    "This dataframe contains outliers that need to be addressed.\n",
    "\n",
    "**An interpretation of the ourliers**\n",
    "\n",
    "From the graphs above we can see that: \n",
    "\n",
    "The `vehicle_age` when compared with the price shows that: \n",
    "-\tthe majority of vehicles in the data set are positioned between 0 and 60 years and prices between 0 and 50000 price points\n",
    "-\tvehicles aged older than 60 years are  anomaly’s and tend to be lowly priced – this could be vehicles keep in the system that are unsold and have depreciated\n",
    "-\tthe vehicles aged between 0 and 20 years above the 50000 price point are most likely exotic vehicles that are sold in lower quantities yet at higher prices\n",
    "\n",
    "The `mileage_per_year` when compared with the price shows that: \n",
    "-\thas a similar trend as the `vehicle_age` graph\n",
    "-\tthe majority of vehicles in the data set are positioned between 0 and 50000 price points\n",
    "-\thigher milage vehicles are outliers – this could be vehicles keep in the system that are unsold and have depreciated\n",
    "-\tthe vehicles with lower milage aged above the 50000 price point are most likely exotic vehicles that are sold in lower quantities yet at higher prices\n",
    "\n",
    "The ` cylinders` when compared with the price shows that:\n",
    "-\tmajority of the cars are 6 and 8 cylinders \n",
    "-\tyet the 6 cylinders and 8 cylinders contain outliers which is indicative of exotic vehicles that are sold in lower quantities yet at higher prices\n",
    "\n",
    "The ` condition ` when compared with the price shows that:\n",
    "\n",
    "Condition index:\n",
    "new = 5\n",
    "like new = 4\n",
    "excellent = 3\n",
    "good = 2\n",
    "fair = 1\n",
    "salvage = 0\n",
    "\n",
    "-\tThe majority of vehicles purchased are the between 2,3,4 and 5\n",
    "-\tthe pricing for them are between 0 and 50000 price points\n",
    "-\tthe outliers of all condition are above the 50000 price point are most likely exotic vehicles that are sold in lower quantities yet at higher prices\n"
   ]
  },
  {
   "cell_type": "markdown",
   "metadata": {},
   "source": [
    "## Study and treat outliers"
   ]
  },
  {
   "cell_type": "markdown",
   "metadata": {},
   "source": [
    "Treating the Outlier for the columns:\n",
    "\n",
    "- Price\n",
    "- The vehicle's age when the ad was placed\n",
    "- Mileage"
   ]
  },
  {
   "cell_type": "code",
   "execution_count": 95,
   "metadata": {},
   "outputs": [],
   "source": [
    "    def upper_lower_limit(column, df):\n",
    "\n",
    "        q1 = df['price'].quantile(0.25)\n",
    "        q3 = df['price'].quantile(0.75)\n",
    "        IQR = q3 - q1\n",
    "\n",
    "        lim_inf = q1 - 1.5 * IQR\n",
    "        lim_sup = q3 + 1.5 * IQR\n",
    "\n",
    "        #filter outliers\n",
    "        df_filtered = df[(df['price'] >= lim_inf) & (df['price'] <= lim_sup)]\n",
    "        return df_filtered\n",
    "\n",
    "    # implement the loop statement that recursively filters values out.\n",
    "    df_filter = df.copy()\n",
    "    for col in ['price', 'vehicle_age', 'mileage_per_year']:\n",
    "\n",
    "        df_filter = upper_lower_limit(col, df_filter) # df_filter will be your new data without outliers\n"
   ]
  },
  {
   "cell_type": "markdown",
   "metadata": {},
   "source": [
    "## Study core parameters without outliers"
   ]
  },
  {
   "cell_type": "code",
   "execution_count": 96,
   "metadata": {},
   "outputs": [
    {
     "data": {
      "image/png": "[encoded data removed]",
      "text/plain": [
       "<Figure size 432x288 with 1 Axes>"
      ]
     },
     "metadata": {
      "needs_background": "light"
     },
     "output_type": "display_data"
    },
    {
     "data": {
      "image/png": "[encoded data removed]",
      "text/plain": [
       "<Figure size 432x288 with 1 Axes>"
      ]
     },
     "metadata": {
      "needs_background": "light"
     },
     "output_type": "display_data"
    },
    {
     "data": {
      "image/png": "[encoded data removed]",
      "text/plain": [
       "<Figure size 432x288 with 1 Axes>"
      ]
     },
     "metadata": {
      "needs_background": "light"
     },
     "output_type": "display_data"
    }
   ],
   "source": [
    "columns_to_plot = ['price', 'vehicle_age', 'mileage_per_year']\n",
    "\n",
    "for column in columns_to_plot:\n",
    "    sns.boxplot(data=df, x=df_copy[column])\n",
    "    plt.title(f'{column.replace(\"_\", \" \").title()} Distribution')\n",
    "    plt.show()"
   ]
  },
  {
   "cell_type": "code",
   "execution_count": 97,
   "metadata": {},
   "outputs": [
    {
     "data": {
      "image/png": "[encoded data removed]",
      "text/plain": [
       "<Figure size 432x288 with 1 Axes>"
      ]
     },
     "metadata": {
      "needs_background": "light"
     },
     "output_type": "display_data"
    },
    {
     "data": {
      "image/png": "[encoded data removed]",
      "text/plain": [
       "<Figure size 432x288 with 1 Axes>"
      ]
     },
     "metadata": {
      "needs_background": "light"
     },
     "output_type": "display_data"
    },
    {
     "data": {
      "image/png": "[encoded data removed]",
      "text/plain": [
       "<Figure size 432x288 with 1 Axes>"
      ]
     },
     "metadata": {
      "needs_background": "light"
     },
     "output_type": "display_data"
    }
   ],
   "source": [
    "columns_to_plot = ['price', 'vehicle_age', 'mileage_per_year']\n",
    "\n",
    "for column in columns_to_plot:\n",
    "    sns.histplot(data=df, x=df_copy[column])\n",
    "    plt.title(f'{column.replace(\"_\", \" \").title()} Distribution')\n",
    "    plt.show()"
   ]
  },
  {
   "cell_type": "markdown",
   "metadata": {},
   "source": [
    "**An interpretation of the dataframe without outliers**\n",
    "\n",
    "An interpretation of the above graphs depicts the columns with the outliers removed.\n",
    "All three graphs namely `price`, `vehicle_age` & `mileage_per_year` are:\n",
    "-\tPositively skewed\n",
    "\n",
    "What this means for the `price` \n",
    "-\tMost vehicles are priced between 5000 and 17000 price points\n",
    "-\tThe Median (Q2) is placed at 8500 price points\n",
    "\n",
    "What this means for the `vehicle_age` \n",
    "-\tMost vehicles are aged between 4 and 13 years\n",
    "-\tThe Median (Q2) is placed 7 years\n"
   ]
  },
  {
   "cell_type": "markdown",
   "metadata": {},
   "source": [
    "## Ads lifetime\n"
   ]
  },
  {
   "cell_type": "code",
   "execution_count": 98,
   "metadata": {},
   "outputs": [
    {
     "name": "stdout",
     "output_type": "stream",
     "text": [
      "<class 'pandas.core.frame.DataFrame'>\n",
      "Int64Index: 51525 entries, 0 to 51524\n",
      "Data columns (total 19 columns):\n",
      " #   Column            Non-Null Count  Dtype         \n",
      "---  ------            --------------  -----         \n",
      " 0   price             51525 non-null  int64         \n",
      " 1   model_year        51525 non-null  float64       \n",
      " 2   model             51525 non-null  object        \n",
      " 3   condition         51525 non-null  int64         \n",
      " 4   cylinders         51525 non-null  float64       \n",
      " 5   fuel              51525 non-null  object        \n",
      " 6   odometer          51525 non-null  object        \n",
      " 7   transmission      51525 non-null  object        \n",
      " 8   type              51525 non-null  object        \n",
      " 9   paint_color       51525 non-null  object        \n",
      " 10  is_4wd            51525 non-null  bool          \n",
      " 11  date_posted       51525 non-null  datetime64[ns]\n",
      " 12  days_listed       51525 non-null  int64         \n",
      " 13  odometer_median   51484 non-null  float64       \n",
      " 14  year_posted       51525 non-null  int64         \n",
      " 15  month_posted      51525 non-null  int64         \n",
      " 16  day_posted        51525 non-null  int64         \n",
      " 17  vehicle_age       51525 non-null  float64       \n",
      " 18  mileage_per_year  51525 non-null  int64         \n",
      "dtypes: bool(1), datetime64[ns](1), float64(4), int64(7), object(6)\n",
      "memory usage: 7.5+ MB\n"
     ]
    }
   ],
   "source": [
    "df.info()"
   ]
  },
  {
   "cell_type": "markdown",
   "metadata": {},
   "source": [
    "**Describing the typical lifetime of an ad.**"
   ]
  },
  {
   "cell_type": "code",
   "execution_count": 99,
   "metadata": {
    "scrolled": true
   },
   "outputs": [
    {
     "data": {
      "text/plain": [
       "count    51525.00000\n",
       "mean        39.55476\n",
       "std         28.20427\n",
       "min          0.00000\n",
       "25%         19.00000\n",
       "50%         33.00000\n",
       "75%         53.00000\n",
       "max        271.00000\n",
       "Name: days_listed, dtype: float64"
      ]
     },
     "execution_count": 99,
     "metadata": {},
     "output_type": "execute_result"
    }
   ],
   "source": [
    "df['days_listed'].describe()"
   ]
  },
  {
   "cell_type": "code",
   "execution_count": 100,
   "metadata": {},
   "outputs": [
    {
     "data": {
      "image/png": "[encoded data removed]",
      "text/plain": [
       "<Figure size 432x288 with 1 Axes>"
      ]
     },
     "metadata": {
      "needs_background": "light"
     },
     "output_type": "display_data"
    }
   ],
   "source": [
    "sns.histplot(data=df, x='days_listed')\n",
    "plt.title('Days Listed Distribution')\n",
    "plt.show()"
   ]
  },
  {
   "cell_type": "markdown",
   "metadata": {},
   "source": [
    "Ads ran between **19 and 53 days**\n",
    "- the ads that ran less than 19 days were removed too quickly\n",
    "- the ads that ran more than 53 days were removed too late\n",
    "- the average time of the ads is 39.5 days"
   ]
  },
  {
   "cell_type": "markdown",
   "metadata": {},
   "source": [
    "## Average price per each type of vehicle"
   ]
  },
  {
   "cell_type": "markdown",
   "metadata": {},
   "source": [
    "Analysis of the number of ads and the average price for each type of vehicle. "
   ]
  },
  {
   "cell_type": "code",
   "execution_count": 101,
   "metadata": {},
   "outputs": [
    {
     "name": "stdout",
     "output_type": "stream",
     "text": [
      "                    price\n",
      "type                     \n",
      "bus          17135.666667\n",
      "convertible  12511.617021\n",
      "coupe        13269.010782\n",
      "hatchback     6841.620459\n",
      "mini-van      8004.687986\n",
      "offroad      13177.674757\n",
      "other        10507.194444\n",
      "pickup       14609.742072\n",
      "sedan         6942.349551\n",
      "suv          10359.897968\n",
      "truck        14820.840606\n",
      "van           8743.340102\n",
      "wagon         8880.496408\n"
     ]
    }
   ],
   "source": [
    "mean_price = df_copy.pivot_table(index='type', values='price', aggfunc='mean')\n",
    "print(mean_price)\n"
   ]
  },
  {
   "cell_type": "markdown",
   "metadata": {},
   "source": [
    "A graph showing the dependence of the number of ads on the vehicle type."
   ]
  },
  {
   "cell_type": "code",
   "execution_count": 102,
   "metadata": {},
   "outputs": [
    {
     "data": {
      "image/png": "[encoded data removed]",
      "text/plain": [
       "<Figure size 432x288 with 1 Axes>"
      ]
     },
     "metadata": {
      "needs_background": "light"
     },
     "output_type": "display_data"
    }
   ],
   "source": [
    "type_pivot = df_copy.pivot_table(index='type', values='price', aggfunc={'price': ['count', 'mean']})\n",
    "type_pivot.columns = ['ad_counts', 'avg_price']\n",
    "type_pivot['type'] = type_pivot.index\n",
    "type_pivot = type_pivot.sort_values(by='ad_counts', ascending=False)\n",
    "\n",
    "sns.barplot(data=type_pivot, x='ad_counts', y='type', palette='mako')\n",
    "plt.title('Distribution of Ad Counts by Type')\n",
    "plt.show()"
   ]
  },
  {
   "cell_type": "markdown",
   "metadata": {},
   "source": [
    "The two types of vehicle with the greatest number of ads:\n",
    "- sedan\n",
    "- SUV\n",
    "\n",
    "The two types of vehicle with the least number of ads:\n",
    "- offroad\n",
    "- bus"
   ]
  },
  {
   "cell_type": "code",
   "execution_count": 103,
   "metadata": {},
   "outputs": [
    {
     "data": {
      "image/png": "[encoded data removed]",
      "text/plain": [
       "<Figure size 432x288 with 1 Axes>"
      ]
     },
     "metadata": {
      "needs_background": "light"
     },
     "output_type": "display_data"
    }
   ],
   "source": [
    "type_pivot = type_pivot.sort_values(by='avg_price', ascending=False)\n",
    "\n",
    "sns.barplot(data=type_pivot,x='avg_price', y='type', palette='mako')\n",
    "plt.title('Distribution of Average Price by Type')\n",
    "plt.show()"
   ]
  },
  {
   "cell_type": "markdown",
   "metadata": {},
   "source": [
    "## Price factors"
   ]
  },
  {
   "cell_type": "markdown",
   "metadata": {},
   "source": [
    "**Exploring what factors impact the price most** "
   ]
  },
  {
   "cell_type": "code",
   "execution_count": 104,
   "metadata": {},
   "outputs": [
    {
     "name": "stdout",
     "output_type": "stream",
     "text": [
      "Index(['suv', 'truck', 'sedan', 'pickup', 'coupe', 'wagon', 'mini-van',\n",
      "       'hatchback', 'van', 'convertible', 'other', 'offroad'],\n",
      "      dtype='object')\n"
     ]
    }
   ],
   "source": [
    "popular_types = df_copy['type'].value_counts()[df_copy['type'].value_counts() >= 50].index\n",
    "filtered_df = df_copy[df_copy['type'].isin(popular_types)]\n",
    "print(popular_types)"
   ]
  },
  {
   "cell_type": "markdown",
   "metadata": {},
   "source": [
    "The three most popular types of vehicles are:\n",
    "- suv\n",
    "- truck\n",
    "- sedan\n",
    "\n",
    "The above categories contain at least 50 ads – this is to ensure the validity of the analysis."
   ]
  },
  {
   "cell_type": "code",
   "execution_count": 106,
   "metadata": {},
   "outputs": [],
   "source": [
    "sedan_df = filtered_df[filtered_df['type'] == 'sedan']\n",
    "suv_df = filtered_df[filtered_df['type'] == 'suv']"
   ]
  },
  {
   "cell_type": "markdown",
   "metadata": {},
   "source": [
    "**Analysis for various factors thats affects price of Sedans**"
   ]
  },
  {
   "cell_type": "code",
   "execution_count": 107,
   "metadata": {
    "scrolled": false
   },
   "outputs": [
    {
     "data": {
      "image/png": "[encoded data removed]",
      "text/plain": [
       "<Figure size 432x288 with 1 Axes>"
      ]
     },
     "metadata": {
      "needs_background": "light"
     },
     "output_type": "display_data"
    },
    {
     "data": {
      "image/png": "[encoded data removed]",
      "text/plain": [
       "<Figure size 432x288 with 1 Axes>"
      ]
     },
     "metadata": {
      "needs_background": "light"
     },
     "output_type": "display_data"
    },
    {
     "data": {
      "image/png": "[encoded data removed]",
      "text/plain": [
       "<Figure size 432x288 with 1 Axes>"
      ]
     },
     "metadata": {
      "needs_background": "light"
     },
     "output_type": "display_data"
    }
   ],
   "source": [
    "# Analysis for Sedan\n",
    "sns.histplot(data=sedan_df, x='vehicle_age', bins=20)\n",
    "plt.title('Sedan Price vs. Vehicle Age')\n",
    "plt.xlabel('Vehicle Age')\n",
    "plt.ylabel('Price')\n",
    "plt.show()\n",
    "\n",
    "sns.histplot(data=sedan_df, x='mileage_per_year', bins=20, kde=True)\n",
    "plt.title('Sedan Price vs Mileage')\n",
    "plt.xlabel('Mileage per Year')\n",
    "plt.ylabel('Price')\n",
    "plt.show()\n",
    "\n",
    "sns.boxplot(x='condition', y='price', data=sedan_df)\n",
    "plt.title('Sedan Price vs. Condition')\n",
    "plt.xlabel('Condition')\n",
    "plt.ylabel('Price')\n",
    "plt.show()"
   ]
  },
  {
   "cell_type": "markdown",
   "metadata": {},
   "source": [
    "**Interpretation of the graphs for various factors that affects price of Sedans**\n",
    "\n",
    "Sedans Vehicle Age:\n",
    "- The newer the Sedan the higher the price\n",
    "- Sedans around the first five years are around 1000 price points  \n",
    "- Sedans around sixth year are priced at above 2000 price points\n",
    "- Sedans between seven and twelve years depreciate below 1000 price points \n",
    "- Sedans around the thirteens year are priced at above 1000 price points\n",
    "- There after the prices depreciate below 500 price points\n",
    "\n",
    "Sedans Mileage:\n",
    "-\tPositively skewed: The lower the milage the higher the price\n",
    "\n",
    "Sedans Condition:\n",
    "\n",
    "Index:\n",
    "new = 5\n",
    "like new = 4\n",
    "excellent = 3\n",
    "good = 2\n",
    "fair = 1\n",
    "salvage = 0\n",
    "\n",
    "- New sedans are priced between 5000 and 14000 price points with a median price of approximately 7000\n",
    "- Like New sedans are priced between 5000 and 13000 price points with a median price of approximately 6800\n",
    "- Excellent sedans are priced between 4800 and 10000 price points with a median price of approximately 6500\n",
    "- Good sedans are priced between 2500 and 6000 price points with a median price of approximately 6500\n",
    "- Fair sedans are priced between 1000 and below 2500 price points\n",
    "- Salvage sedans are priced between 1000 and 5000 price points with a median price of approximately 2500\n",
    "\n",
    "It is notable that the salvage sedans are priced higher than the fair once this could be because the salvage ones maybe high value due to their ability to get refurbished. \n"
   ]
  },
  {
   "cell_type": "markdown",
   "metadata": {},
   "source": [
    "**Analysis for various factors thats affects price of SUVs**"
   ]
  },
  {
   "cell_type": "code",
   "execution_count": 115,
   "metadata": {},
   "outputs": [
    {
     "data": {
      "image/png": "[encoded data removed]",
      "text/plain": [
       "<Figure size 432x288 with 1 Axes>"
      ]
     },
     "metadata": {
      "needs_background": "light"
     },
     "output_type": "display_data"
    },
    {
     "data": {
      "image/png": "[encoded data removed]",
      "text/plain": [
       "<Figure size 432x288 with 1 Axes>"
      ]
     },
     "metadata": {
      "needs_background": "light"
     },
     "output_type": "display_data"
    },
    {
     "data": {
      "image/png": "[encoded data removed]",
      "text/plain": [
       "<Figure size 432x288 with 1 Axes>"
      ]
     },
     "metadata": {
      "needs_background": "light"
     },
     "output_type": "display_data"
    }
   ],
   "source": [
    "# Analysis for SUV\n",
    "sns.histplot(data=suv_df, x='vehicle_age', bins=20)\n",
    "plt.title('SUV Price vs. Vehicle Age')\n",
    "plt.xlabel('Vehicle Age')\n",
    "plt.ylabel('Price')\n",
    "plt.show()\n",
    "\n",
    "sns.histplot(data=suv_df, x='mileage_per_year', bins=20, kde=True)\n",
    "plt.title('SUV Price vs Mileage')\n",
    "plt.xlabel('Mileage per Year')\n",
    "plt.ylabel('Price')\n",
    "plt.show()\n",
    "\n",
    "sns.boxplot(x='condition', y='price', data=suv_df)\n",
    "plt.title('SUV Price vs. Condition')\n",
    "plt.xlabel('Condition')\n",
    "plt.ylabel('Price')\n",
    "plt.show()"
   ]
  },
  {
   "cell_type": "markdown",
   "metadata": {},
   "source": [
    "**Interpretation of the graphs for various factors that affects price of SUVs**\n",
    "\n",
    "SUVs Vehicle Age:\n",
    "- Generally the newer the Sedan the higher the price\n",
    "- SUVs around the first year are around 1000 price points  \n",
    "- SUVs around second and fifth years are priced at below 1000 price points\n",
    "- SUVs around the sixth year are around 1750 price points  \n",
    "- SUVs between seven and eleventh years at priced  around 1000 price points\n",
    "- SUVs after the twelfth year depreciate below 500 price points\n",
    "\n",
    "SUVs Mileage:\n",
    "-\tPositively skewed: The lower the milage the higher the price\n",
    "\n",
    "SUVs Condition:\n",
    "\n",
    "Index:\n",
    "new = 5\n",
    "like new = 4\n",
    "excellent = 3\n",
    "good = 2\n",
    "fair = 1\n",
    "salvage = 0\n",
    "\n",
    "- New SUVs are priced between 4500 and 23000 price points with a median price of approximately 13000\n",
    "- Like New SUVs are priced between 5500 and 20000 price points with a median price of approximately 13000\n",
    "- Excellent SUVs are priced between 5000 and 14000 price points with a median price of approximately 6000\n",
    "- Good SUVs are priced between 1000 and 2000 price points with a median price of approximately 6500\n",
    "- Fair SUVs are priced between 1000 and 2500 price points\n",
    "- Salvage SUVs are priced between 1000 and below 2000 price points\n"
   ]
  },
  {
   "cell_type": "markdown",
   "metadata": {},
   "source": [
    "**Analysing relationships between price and categorical variables(paint_color and transmission)** "
   ]
  },
  {
   "cell_type": "code",
   "execution_count": 116,
   "metadata": {
    "scrolled": true
   },
   "outputs": [
    {
     "data": {
      "image/png": "[encoded data removed]",
      "text/plain": [
       "<Figure size 432x288 with 1 Axes>"
      ]
     },
     "metadata": {
      "needs_background": "light"
     },
     "output_type": "display_data"
    },
    {
     "data": {
      "image/png": "[encoded data removed]",
      "text/plain": [
       "<Figure size 432x288 with 1 Axes>"
      ]
     },
     "metadata": {
      "needs_background": "light"
     },
     "output_type": "display_data"
    }
   ],
   "source": [
    "# Filter for instances with more than 50 ads\n",
    "popular_paint_colors = filtered_df['paint_color'].value_counts()[filtered_df['paint_color'].value_counts() >= 50].index\n",
    "popular_transmissions = filtered_df['transmission'].value_counts()[filtered_df['transmission'].value_counts() >= 50].index\n",
    "\n",
    "filtered_paint_color_df = filtered_df[filtered_df['paint_color'].isin(popular_paint_colors)]\n",
    "filtered_transmission_df = filtered_df[filtered_df['transmission'].isin(popular_transmissions)]\n",
    "\n",
    "# Boxplot for Transmission Type\n",
    "sns.boxplot(x='transmission', y='price', data=filtered_transmission_df)\n",
    "plt.title('Price vs. Transmission Type (Above 50 Ads)')\n",
    "plt.xlabel('Transmission Type')\n",
    "plt.ylabel('Price')\n",
    "plt.show()\n",
    "\n",
    "# Boxplot for Paint Color\n",
    "sns.boxplot(x='paint_color', y='price', data=filtered_paint_color_df)\n",
    "plt.title('Price vs. Paint Color (Above 50 Ads)')\n",
    "plt.xlabel('Paint Color')\n",
    "plt.ylabel('Price')\n",
    "plt.xticks(rotation=45)\n",
    "plt.show()"
   ]
  },
  {
   "cell_type": "markdown",
   "metadata": {},
   "source": [
    "**Interpretation of the graphs**\n",
    "\n",
    "Transmission Type:\n",
    "-\tThe Automatic vehicles generally cost more than the manual vehicles\n",
    "-\tAutomatic vehicles are priced between 5000 and 15000 price points with a median price of approximately 9000\n",
    "-\tManual are priced between 4500 and 13000 price points with a median price of approximately 7000\n",
    "\n",
    "Paint Colors:\n",
    "-\tThe pain colors are generally evenly spread\n"
   ]
  },
  {
   "cell_type": "markdown",
   "metadata": {},
   "source": [
    "**Establishing the correlation that price has on the:**\n",
    "- type              \n",
    "- days_listed       \n",
    "- vehicle_age       \n",
    "- mileage_per_year  \n",
    "- condition         \n",
    "- cylinders        \n",
    "- transmission\n",
    "- fuel      \n",
    "- paint_color"
   ]
  },
  {
   "cell_type": "code",
   "execution_count": 117,
   "metadata": {
    "scrolled": true
   },
   "outputs": [
    {
     "name": "stdout",
     "output_type": "stream",
     "text": [
      "<class 'pandas.core.frame.DataFrame'>\n",
      "Int64Index: 24507 entries, 12 to 51480\n",
      "Data columns (total 10 columns):\n",
      " #   Column            Non-Null Count  Dtype  \n",
      "---  ------            --------------  -----  \n",
      " 0   type              24507 non-null  object \n",
      " 1   days_listed       24507 non-null  int64  \n",
      " 2   price             23697 non-null  float64\n",
      " 3   vehicle_age       24323 non-null  float64\n",
      " 4   mileage_per_year  24165 non-null  float64\n",
      " 5   condition         24507 non-null  int64  \n",
      " 6   cylinders         24507 non-null  float64\n",
      " 7   fuel              24507 non-null  object \n",
      " 8   transmission      24507 non-null  object \n",
      " 9   paint_color       24507 non-null  object \n",
      "dtypes: float64(4), int64(2), object(4)\n",
      "memory usage: 2.1+ MB\n"
     ]
    }
   ],
   "source": [
    "selected_type = ['SUV', 'truck', 'sedan']\n",
    "filtered_df = df_copy[['type','days_listed', 'price','vehicle_age','mileage_per_year','condition','cylinders','fuel','transmission','paint_color',]].copy()\n",
    "filtered_df = filtered_df.query('type == @selected_type')\n",
    "filtered_df.info()"
   ]
  },
  {
   "cell_type": "code",
   "execution_count": 118,
   "metadata": {
    "scrolled": false
   },
   "outputs": [
    {
     "data": {
      "text/html": [
       "<div>\n",
       "<style scoped>\n",
       "    .dataframe tbody tr th:only-of-type {\n",
       "        vertical-align: middle;\n",
       "    }\n",
       "\n",
       "    .dataframe tbody tr th {\n",
       "        vertical-align: top;\n",
       "    }\n",
       "\n",
       "    .dataframe thead th {\n",
       "        text-align: right;\n",
       "    }\n",
       "</style>\n",
       "<table border=\"1\" class=\"dataframe\">\n",
       "  <thead>\n",
       "    <tr style=\"text-align: right;\">\n",
       "      <th></th>\n",
       "      <th>days_listed</th>\n",
       "      <th>price</th>\n",
       "      <th>vehicle_age</th>\n",
       "      <th>mileage_per_year</th>\n",
       "      <th>condition</th>\n",
       "      <th>cylinders</th>\n",
       "    </tr>\n",
       "  </thead>\n",
       "  <tbody>\n",
       "    <tr>\n",
       "      <th>days_listed</th>\n",
       "      <td>1.000000</td>\n",
       "      <td>0.005621</td>\n",
       "      <td>0.007486</td>\n",
       "      <td>0.006106</td>\n",
       "      <td>-0.004296</td>\n",
       "      <td>0.001809</td>\n",
       "    </tr>\n",
       "    <tr>\n",
       "      <th>price</th>\n",
       "      <td>0.005621</td>\n",
       "      <td>1.000000</td>\n",
       "      <td>-0.426521</td>\n",
       "      <td>-0.426281</td>\n",
       "      <td>0.186595</td>\n",
       "      <td>0.410923</td>\n",
       "    </tr>\n",
       "    <tr>\n",
       "      <th>vehicle_age</th>\n",
       "      <td>0.007486</td>\n",
       "      <td>-0.426521</td>\n",
       "      <td>1.000000</td>\n",
       "      <td>0.995474</td>\n",
       "      <td>-0.328408</td>\n",
       "      <td>0.105424</td>\n",
       "    </tr>\n",
       "    <tr>\n",
       "      <th>mileage_per_year</th>\n",
       "      <td>0.006106</td>\n",
       "      <td>-0.426281</td>\n",
       "      <td>0.995474</td>\n",
       "      <td>1.000000</td>\n",
       "      <td>-0.324082</td>\n",
       "      <td>0.100251</td>\n",
       "    </tr>\n",
       "    <tr>\n",
       "      <th>condition</th>\n",
       "      <td>-0.004296</td>\n",
       "      <td>0.186595</td>\n",
       "      <td>-0.328408</td>\n",
       "      <td>-0.324082</td>\n",
       "      <td>1.000000</td>\n",
       "      <td>-0.079956</td>\n",
       "    </tr>\n",
       "    <tr>\n",
       "      <th>cylinders</th>\n",
       "      <td>0.001809</td>\n",
       "      <td>0.410923</td>\n",
       "      <td>0.105424</td>\n",
       "      <td>0.100251</td>\n",
       "      <td>-0.079956</td>\n",
       "      <td>1.000000</td>\n",
       "    </tr>\n",
       "  </tbody>\n",
       "</table>\n",
       "</div>"
      ],
      "text/plain": [
       "                  days_listed     price  vehicle_age  mileage_per_year  \\\n",
       "days_listed          1.000000  0.005621     0.007486          0.006106   \n",
       "price                0.005621  1.000000    -0.426521         -0.426281   \n",
       "vehicle_age          0.007486 -0.426521     1.000000          0.995474   \n",
       "mileage_per_year     0.006106 -0.426281     0.995474          1.000000   \n",
       "condition           -0.004296  0.186595    -0.328408         -0.324082   \n",
       "cylinders            0.001809  0.410923     0.105424          0.100251   \n",
       "\n",
       "                  condition  cylinders  \n",
       "days_listed       -0.004296   0.001809  \n",
       "price              0.186595   0.410923  \n",
       "vehicle_age       -0.328408   0.105424  \n",
       "mileage_per_year  -0.324082   0.100251  \n",
       "condition          1.000000  -0.079956  \n",
       "cylinders         -0.079956   1.000000  "
      ]
     },
     "execution_count": 118,
     "metadata": {},
     "output_type": "execute_result"
    }
   ],
   "source": [
    "filtered_df.corr()"
   ]
  },
  {
   "cell_type": "code",
   "execution_count": 119,
   "metadata": {},
   "outputs": [
    {
     "data": {
      "image/png": "[encoded data removed]",
      "text/plain": [
       "<Figure size 720x576 with 2 Axes>"
      ]
     },
     "metadata": {
      "needs_background": "light"
     },
     "output_type": "display_data"
    }
   ],
   "source": [
    "correlation_matrix = filtered_df.corr()\n",
    "plt.figure(figsize=(10, 8))\n",
    "sns.heatmap(correlation_matrix, annot=True, cmap='coolwarm', linewidths=.5)\n",
    "plt.title('Correlation Matrix')\n",
    "plt.show()"
   ]
  },
  {
   "cell_type": "markdown",
   "metadata": {},
   "source": [
    "### **The Purpose of this project:** <a id='data_review'></a>\n",
    "This data attempts to find the factors that influence the price of a vehicles. \n",
    "\n",
    "\n",
    "### The original Hypothesis tested:\n",
    "\n",
    "The factors that influence the price of a vehicles are:\n",
    "-\tvehicle's age\n",
    "-\tmileage\n",
    "-\tvehicle condition\n",
    "\n",
    "These are not sensitive to the price\n",
    "- Transmission Type\n",
    "- Paint Color\n",
    "\n",
    "In the Data Quality Assessment \n",
    "-\tMissing values were identified and corrected\n",
    "-\tIncorrect data types were corrected\n",
    "-\tMore columns were included in the table by calculations of the existing data\n",
    "-\tOutliers were removed bay establishing the lower and upper limits\n",
    "\n",
    "### Conclution from the Data Analysis\n",
    "\n",
    "The vehicle price\n",
    "-\tMost vehicles are priced between 5000 and 17000 price points\n",
    "-\tThe Median (Q2) is placed at 8500 price points\n",
    "\n",
    "The typical lifetime of an advertisement ran between **19 and 53 days**\n",
    "\n",
    "The impact of the below on the price:\n",
    "\n",
    "- **Vehicle Age:**  The newer the vehicle the higher the price\n",
    "- **Mileage:** The lower the milage the higher the price\n",
    "- **Condition:** Vehicles in better conditions cost more\n",
    "- **Transmission Type:** The Automatic vehicles generally cost more than the manual vehicles\n",
    "- **Paint Colors:** The pain colors are generally evenly spread and therefore not \n",
    "\n",
    "**The original hypothesis is correct the vehicle Vehicle Age, Mileage and Condition have an impact on the vehicle price.**\n"
   ]
  }
 ],
 "metadata": {
  "ExecuteTimeLog": [
   {
    "duration": 828,
    "start_time": "2021-11-16T09:21:11.304Z"
   },
   {
    "duration": 893,
    "start_time": "2021-11-16T09:21:17.728Z"
   },
   {
    "duration": 1150,
    "start_time": "2021-11-16T09:21:29.568Z"
   },
   {
    "duration": 3,
    "start_time": "2021-11-16T09:24:14.495Z"
   },
   {
    "duration": 120,
    "start_time": "2021-11-16T09:24:46.630Z"
   },
   {
    "duration": 3,
    "start_time": "2021-11-16T09:28:27.882Z"
   },
   {
    "duration": 4,
    "start_time": "2021-11-16T09:29:54.281Z"
   },
   {
    "duration": 3,
    "start_time": "2021-11-16T09:30:45.936Z"
   },
   {
    "duration": 4,
    "start_time": "2021-11-16T09:31:06.300Z"
   },
   {
    "duration": 113,
    "start_time": "2021-11-16T09:31:37.208Z"
   },
   {
    "duration": 143,
    "start_time": "2021-11-16T09:31:48.656Z"
   },
   {
    "duration": 98,
    "start_time": "2021-11-16T09:31:55.678Z"
   },
   {
    "duration": 3,
    "start_time": "2021-11-16T09:32:08.535Z"
   },
   {
    "duration": 111,
    "start_time": "2021-11-16T09:32:10.120Z"
   },
   {
    "duration": 3,
    "start_time": "2021-11-16T09:32:15.732Z"
   },
   {
    "duration": 4,
    "start_time": "2021-11-16T09:32:29.423Z"
   },
   {
    "duration": 3,
    "start_time": "2021-11-16T10:03:03.074Z"
   },
   {
    "duration": 3,
    "start_time": "2021-11-16T10:10:01.288Z"
   },
   {
    "duration": 3,
    "start_time": "2021-11-16T10:10:46.923Z"
   },
   {
    "duration": 121,
    "start_time": "2021-11-16T10:37:46.494Z"
   },
   {
    "duration": 125,
    "start_time": "2021-11-16T10:38:20.632Z"
   },
   {
    "duration": 112,
    "start_time": "2021-11-16T10:46:53.001Z"
   },
   {
    "duration": 110,
    "start_time": "2021-11-16T10:48:25.775Z"
   },
   {
    "duration": 3,
    "start_time": "2021-11-16T10:50:18.720Z"
   },
   {
    "duration": 4,
    "start_time": "2021-11-16T10:50:37.649Z"
   },
   {
    "duration": 2,
    "start_time": "2021-11-16T10:50:51.884Z"
   },
   {
    "duration": 3,
    "start_time": "2021-11-16T10:51:56.237Z"
   },
   {
    "duration": 101,
    "start_time": "2021-11-16T10:53:13.791Z"
   },
   {
    "duration": 3,
    "start_time": "2021-11-16T10:55:59.186Z"
   },
   {
    "duration": 3,
    "start_time": "2021-11-16T10:56:10.751Z"
   },
   {
    "duration": 3,
    "start_time": "2021-11-16T10:56:49.038Z"
   },
   {
    "duration": 3,
    "start_time": "2021-11-16T10:56:49.174Z"
   },
   {
    "duration": 4,
    "start_time": "2021-11-16T10:56:49.414Z"
   },
   {
    "duration": 3,
    "start_time": "2021-11-16T10:56:49.680Z"
   },
   {
    "duration": 3,
    "start_time": "2021-11-16T10:56:50.370Z"
   },
   {
    "duration": 114,
    "start_time": "2021-11-16T10:59:34.518Z"
   },
   {
    "duration": 3,
    "start_time": "2021-11-16T11:01:41.201Z"
   },
   {
    "duration": 116,
    "start_time": "2021-11-16T11:01:48.754Z"
   },
   {
    "duration": 3,
    "start_time": "2021-11-16T11:02:16.685Z"
   },
   {
    "duration": 3,
    "start_time": "2021-11-16T11:02:19.479Z"
   },
   {
    "duration": 3,
    "start_time": "2021-11-16T11:02:47.067Z"
   },
   {
    "duration": 3,
    "start_time": "2021-11-16T11:02:49.353Z"
   },
   {
    "duration": 3,
    "start_time": "2021-11-16T11:03:07.835Z"
   },
   {
    "duration": 3,
    "start_time": "2021-11-16T11:03:07.953Z"
   },
   {
    "duration": 112,
    "start_time": "2021-11-16T11:07:52.072Z"
   },
   {
    "duration": 187,
    "start_time": "2021-11-16T11:09:23.468Z"
   },
   {
    "duration": 4,
    "start_time": "2021-11-16T11:10:01.455Z"
   },
   {
    "duration": 3,
    "start_time": "2021-11-16T11:10:05.069Z"
   },
   {
    "duration": 4,
    "start_time": "2021-11-16T11:10:13.376Z"
   },
   {
    "duration": 3,
    "start_time": "2021-11-16T11:10:14.434Z"
   },
   {
    "duration": 3,
    "start_time": "2021-11-16T11:10:22.853Z"
   },
   {
    "duration": 4,
    "start_time": "2021-11-16T11:27:29.279Z"
   },
   {
    "duration": 4,
    "start_time": "2021-11-16T11:29:08.919Z"
   },
   {
    "duration": 118,
    "start_time": "2021-11-16T11:29:46.703Z"
   },
   {
    "duration": 437,
    "start_time": "2021-11-16T11:36:02.181Z"
   },
   {
    "duration": 157,
    "start_time": "2021-11-16T11:36:14.388Z"
   },
   {
    "duration": 207,
    "start_time": "2021-11-16T11:47:15.898Z"
   },
   {
    "duration": 3,
    "start_time": "2021-11-16T11:53:52.092Z"
   },
   {
    "duration": 3,
    "start_time": "2021-11-16T11:53:52.236Z"
   },
   {
    "duration": 3,
    "start_time": "2021-11-16T11:59:12.005Z"
   },
   {
    "duration": 112,
    "start_time": "2021-11-16T12:00:33.446Z"
   },
   {
    "duration": 3,
    "start_time": "2021-11-16T12:02:14.453Z"
   },
   {
    "duration": 3,
    "start_time": "2021-11-16T12:02:39.512Z"
   },
   {
    "duration": 106,
    "start_time": "2021-11-16T12:03:03.460Z"
   }
  ],
  "kernelspec": {
   "display_name": "Python 3 (ipykernel)",
   "language": "python",
   "name": "python3"
  },
  "language_info": {
   "codemirror_mode": {
    "name": "ipython",
    "version": 3
   },
   "file_extension": ".py",
   "mimetype": "text/x-python",
   "name": "python",
   "nbconvert_exporter": "python",
   "pygments_lexer": "ipython3",
   "version": "3.9.5"
  },
  "toc": {
   "base_numbering": 1,
   "nav_menu": {},
   "number_sections": true,
   "sideBar": true,
   "skip_h1_title": false,
   "title_cell": "Table of Contents",
   "title_sidebar": "Contents",
   "toc_cell": false,
   "toc_position": {},
   "toc_section_display": true,
   "toc_window_display": false
  }
 },
 "nbformat": 4,
 "nbformat_minor": 2
}
